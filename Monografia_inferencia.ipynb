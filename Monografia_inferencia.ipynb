{
 "cells": [
  {
   "cell_type": "markdown",
   "id": "f63de5f1-1a74-4ba1-8355-29d0660531ca",
   "metadata": {},
   "source": [
    "# Importando as bibliotecas necessárias "
   ]
  },
  {
   "cell_type": "code",
   "execution_count": 1,
   "id": "868882fe-8f46-43e0-af12-bcd59dabda8b",
   "metadata": {},
   "outputs": [],
   "source": [
    "import numpy as np\n",
    "import pandas as pd\n",
    "import pickle"
   ]
  },
  {
   "cell_type": "markdown",
   "id": "0749fd41-d28d-4473-9e12-06a4376e1a43",
   "metadata": {},
   "source": [
    "# Carregando a base de dados"
   ]
  },
  {
   "cell_type": "code",
   "execution_count": 2,
   "id": "3745d703-cfd0-40a2-b5af-010be80d6c89",
   "metadata": {},
   "outputs": [
    {
     "data": {
      "text/html": [
       "<div>\n",
       "<style scoped>\n",
       "    .dataframe tbody tr th:only-of-type {\n",
       "        vertical-align: middle;\n",
       "    }\n",
       "\n",
       "    .dataframe tbody tr th {\n",
       "        vertical-align: top;\n",
       "    }\n",
       "\n",
       "    .dataframe thead th {\n",
       "        text-align: right;\n",
       "    }\n",
       "</style>\n",
       "<table border=\"1\" class=\"dataframe\">\n",
       "  <thead>\n",
       "    <tr style=\"text-align: right;\">\n",
       "      <th></th>\n",
       "      <th>id</th>\n",
       "      <th>sample</th>\n",
       "      <th>SiO2</th>\n",
       "      <th>Al2O3</th>\n",
       "      <th>Fe2O3</th>\n",
       "      <th>MgO</th>\n",
       "      <th>CaO</th>\n",
       "      <th>Na2O</th>\n",
       "      <th>K2O</th>\n",
       "      <th>TiO2</th>\n",
       "      <th>...</th>\n",
       "      <th>Eu</th>\n",
       "      <th>Gd</th>\n",
       "      <th>Tb</th>\n",
       "      <th>Dy</th>\n",
       "      <th>Ho</th>\n",
       "      <th>Er</th>\n",
       "      <th>Tm</th>\n",
       "      <th>Yb</th>\n",
       "      <th>Lu</th>\n",
       "      <th>Type</th>\n",
       "    </tr>\n",
       "  </thead>\n",
       "  <tbody>\n",
       "    <tr>\n",
       "      <th>0</th>\n",
       "      <td>inf_01</td>\n",
       "      <td>CP1</td>\n",
       "      <td>72.00</td>\n",
       "      <td>13.11</td>\n",
       "      <td>2.34</td>\n",
       "      <td>0.42</td>\n",
       "      <td>1.51</td>\n",
       "      <td>2.66</td>\n",
       "      <td>5.98</td>\n",
       "      <td>0.379</td>\n",
       "      <td>...</td>\n",
       "      <td>NaN</td>\n",
       "      <td>NaN</td>\n",
       "      <td>NaN</td>\n",
       "      <td>NaN</td>\n",
       "      <td>NaN</td>\n",
       "      <td>NaN</td>\n",
       "      <td>NaN</td>\n",
       "      <td>NaN</td>\n",
       "      <td>NaN</td>\n",
       "      <td>NaN</td>\n",
       "    </tr>\n",
       "    <tr>\n",
       "      <th>1</th>\n",
       "      <td>inf_02</td>\n",
       "      <td>CP2</td>\n",
       "      <td>70.16</td>\n",
       "      <td>14.08</td>\n",
       "      <td>3.81</td>\n",
       "      <td>0.67</td>\n",
       "      <td>2.08</td>\n",
       "      <td>2.70</td>\n",
       "      <td>5.67</td>\n",
       "      <td>0.634</td>\n",
       "      <td>...</td>\n",
       "      <td>NaN</td>\n",
       "      <td>NaN</td>\n",
       "      <td>NaN</td>\n",
       "      <td>NaN</td>\n",
       "      <td>NaN</td>\n",
       "      <td>NaN</td>\n",
       "      <td>NaN</td>\n",
       "      <td>NaN</td>\n",
       "      <td>NaN</td>\n",
       "      <td>NaN</td>\n",
       "    </tr>\n",
       "    <tr>\n",
       "      <th>2</th>\n",
       "      <td>inf_03</td>\n",
       "      <td>CP3</td>\n",
       "      <td>71.43</td>\n",
       "      <td>13.68</td>\n",
       "      <td>3.15</td>\n",
       "      <td>0.63</td>\n",
       "      <td>1.93</td>\n",
       "      <td>2.85</td>\n",
       "      <td>5.53</td>\n",
       "      <td>0.604</td>\n",
       "      <td>...</td>\n",
       "      <td>NaN</td>\n",
       "      <td>NaN</td>\n",
       "      <td>NaN</td>\n",
       "      <td>NaN</td>\n",
       "      <td>NaN</td>\n",
       "      <td>NaN</td>\n",
       "      <td>NaN</td>\n",
       "      <td>NaN</td>\n",
       "      <td>NaN</td>\n",
       "      <td>NaN</td>\n",
       "    </tr>\n",
       "    <tr>\n",
       "      <th>3</th>\n",
       "      <td>inf_04</td>\n",
       "      <td>CP4</td>\n",
       "      <td>70.12</td>\n",
       "      <td>13.48</td>\n",
       "      <td>3.29</td>\n",
       "      <td>0.60</td>\n",
       "      <td>1.89</td>\n",
       "      <td>2.83</td>\n",
       "      <td>5.62</td>\n",
       "      <td>0.602</td>\n",
       "      <td>...</td>\n",
       "      <td>NaN</td>\n",
       "      <td>NaN</td>\n",
       "      <td>NaN</td>\n",
       "      <td>NaN</td>\n",
       "      <td>NaN</td>\n",
       "      <td>NaN</td>\n",
       "      <td>NaN</td>\n",
       "      <td>NaN</td>\n",
       "      <td>NaN</td>\n",
       "      <td>NaN</td>\n",
       "    </tr>\n",
       "    <tr>\n",
       "      <th>4</th>\n",
       "      <td>inf_05</td>\n",
       "      <td>CP5</td>\n",
       "      <td>71.33</td>\n",
       "      <td>13.80</td>\n",
       "      <td>2.56</td>\n",
       "      <td>0.43</td>\n",
       "      <td>1.50</td>\n",
       "      <td>2.92</td>\n",
       "      <td>5.40</td>\n",
       "      <td>0.356</td>\n",
       "      <td>...</td>\n",
       "      <td>NaN</td>\n",
       "      <td>NaN</td>\n",
       "      <td>NaN</td>\n",
       "      <td>NaN</td>\n",
       "      <td>NaN</td>\n",
       "      <td>NaN</td>\n",
       "      <td>NaN</td>\n",
       "      <td>NaN</td>\n",
       "      <td>NaN</td>\n",
       "      <td>NaN</td>\n",
       "    </tr>\n",
       "  </tbody>\n",
       "</table>\n",
       "<p>5 rows × 50 columns</p>\n",
       "</div>"
      ],
      "text/plain": [
       "       id sample   SiO2  Al2O3  Fe2O3   MgO   CaO  Na2O   K2O   TiO2  ...  Eu  \\\n",
       "0  inf_01    CP1  72.00  13.11   2.34  0.42  1.51  2.66  5.98  0.379  ... NaN   \n",
       "1  inf_02    CP2  70.16  14.08   3.81  0.67  2.08  2.70  5.67  0.634  ... NaN   \n",
       "2  inf_03    CP3  71.43  13.68   3.15  0.63  1.93  2.85  5.53  0.604  ... NaN   \n",
       "3  inf_04    CP4  70.12  13.48   3.29  0.60  1.89  2.83  5.62  0.602  ... NaN   \n",
       "4  inf_05    CP5  71.33  13.80   2.56  0.43  1.50  2.92  5.40  0.356  ... NaN   \n",
       "\n",
       "   Gd  Tb  Dy  Ho  Er  Tm  Yb  Lu  Type  \n",
       "0 NaN NaN NaN NaN NaN NaN NaN NaN   NaN  \n",
       "1 NaN NaN NaN NaN NaN NaN NaN NaN   NaN  \n",
       "2 NaN NaN NaN NaN NaN NaN NaN NaN   NaN  \n",
       "3 NaN NaN NaN NaN NaN NaN NaN NaN   NaN  \n",
       "4 NaN NaN NaN NaN NaN NaN NaN NaN   NaN  \n",
       "\n",
       "[5 rows x 50 columns]"
      ]
     },
     "execution_count": 2,
     "metadata": {},
     "output_type": "execute_result"
    }
   ],
   "source": [
    "data = pd.read_csv('Inferencia.csv', ';')\n",
    "data.head()"
   ]
  },
  {
   "cell_type": "markdown",
   "id": "0c7d3df3-9713-4742-849f-811ca2085544",
   "metadata": {},
   "source": [
    "### Importante!\n",
    "\n",
    "Para realizar a inferência não faremos tratamento de missing values. As colunas que contém missing values serão descartadas. Por isso, o modelo selecionado deve conter todas as variáveis exigidas pelo modelo."
   ]
  },
  {
   "cell_type": "code",
   "execution_count": 3,
   "id": "adcbc1cc-555d-4b6f-b538-f49edb333e6b",
   "metadata": {},
   "outputs": [
    {
     "name": "stdout",
     "output_type": "stream",
     "text": [
      "# Columns having more than 1 percent missing values: 36\n",
      "Columns:\n",
      " ['Th', 'Pr', 'Tb', 'Y', 'Sc', 'Ga', 'Ba', 'Pb', 'Zr', 'Ni', 'Ho', 'Rb', 'Dy', 'Cs', 'Nd', 'La', 'U', 'Cr', 'V', 'Lu', 'Ce', 'Yb', 'Tm', 'Nb', 'Er', 'Ta', 'Zn', 'Sr', 'W', 'Type', 'Gd', 'Co', 'Cu', 'Eu', 'Hf', 'Sm']\n"
     ]
    },
    {
     "data": {
      "text/plain": [
       "['id',\n",
       " 'sample',\n",
       " 'SiO2',\n",
       " 'Al2O3',\n",
       " 'Fe2O3',\n",
       " 'MgO',\n",
       " 'CaO',\n",
       " 'Na2O',\n",
       " 'K2O',\n",
       " 'TiO2',\n",
       " 'P2O5',\n",
       " 'MnO',\n",
       " 'LOI',\n",
       " 'Total']"
      ]
     },
     "execution_count": 3,
     "metadata": {},
     "output_type": "execute_result"
    }
   ],
   "source": [
    "#Removendo colunas com missing values \n",
    "\n",
    "def rmissingvaluecol(dff,threshold):\n",
    "    l = []\n",
    "    l = list(dff.drop(dff.loc[:,list((100*(dff.isnull().sum()/len(dff.index))>=threshold))].columns, 1).columns.values)\n",
    "    print(\"# Columns having more than %s percent missing values:\"%threshold,(dff.shape[1] - len(l)))\n",
    "    print(\"Columns:\\n\",list(set(list((dff.columns.values))) - set(l)))\n",
    "    return l\n",
    "\n",
    "\n",
    "rmissingvaluecol(data,1)"
   ]
  },
  {
   "cell_type": "code",
   "execution_count": 4,
   "id": "6f269c0c-9cf9-4f8b-ba00-f20751a5373e",
   "metadata": {},
   "outputs": [
    {
     "name": "stdout",
     "output_type": "stream",
     "text": [
      "# Columns having more than 1 percent missing values: 36\n",
      "Columns:\n",
      " ['Th', 'Pr', 'Tb', 'Y', 'Sc', 'Ga', 'Ba', 'Pb', 'Zr', 'Ni', 'Ho', 'Rb', 'Dy', 'Cs', 'Nd', 'La', 'U', 'Cr', 'V', 'Lu', 'Ce', 'Yb', 'Tm', 'Nb', 'Er', 'Ta', 'Zn', 'Sr', 'W', 'Type', 'Gd', 'Co', 'Cu', 'Eu', 'Hf', 'Sm']\n"
     ]
    }
   ],
   "source": [
    "l = rmissingvaluecol(data,1)\n",
    "df = data[l]"
   ]
  },
  {
   "cell_type": "code",
   "execution_count": 5,
   "id": "5f774e69-7276-4ccf-bb0b-1a9a8ba7c452",
   "metadata": {},
   "outputs": [
    {
     "data": {
      "text/html": [
       "<div>\n",
       "<style scoped>\n",
       "    .dataframe tbody tr th:only-of-type {\n",
       "        vertical-align: middle;\n",
       "    }\n",
       "\n",
       "    .dataframe tbody tr th {\n",
       "        vertical-align: top;\n",
       "    }\n",
       "\n",
       "    .dataframe thead th {\n",
       "        text-align: right;\n",
       "    }\n",
       "</style>\n",
       "<table border=\"1\" class=\"dataframe\">\n",
       "  <thead>\n",
       "    <tr style=\"text-align: right;\">\n",
       "      <th></th>\n",
       "      <th>SiO2</th>\n",
       "      <th>Al2O3</th>\n",
       "      <th>Fe2O3</th>\n",
       "      <th>MgO</th>\n",
       "      <th>CaO</th>\n",
       "      <th>Na2O</th>\n",
       "      <th>K2O</th>\n",
       "      <th>TiO2</th>\n",
       "      <th>P2O5</th>\n",
       "      <th>MnO</th>\n",
       "    </tr>\n",
       "  </thead>\n",
       "  <tbody>\n",
       "    <tr>\n",
       "      <th>0</th>\n",
       "      <td>72.00</td>\n",
       "      <td>13.11</td>\n",
       "      <td>2.34</td>\n",
       "      <td>0.42</td>\n",
       "      <td>1.51</td>\n",
       "      <td>2.66</td>\n",
       "      <td>5.98</td>\n",
       "      <td>0.379</td>\n",
       "      <td>0.13</td>\n",
       "      <td>0.049</td>\n",
       "    </tr>\n",
       "    <tr>\n",
       "      <th>1</th>\n",
       "      <td>70.16</td>\n",
       "      <td>14.08</td>\n",
       "      <td>3.81</td>\n",
       "      <td>0.67</td>\n",
       "      <td>2.08</td>\n",
       "      <td>2.70</td>\n",
       "      <td>5.67</td>\n",
       "      <td>0.634</td>\n",
       "      <td>0.20</td>\n",
       "      <td>0.076</td>\n",
       "    </tr>\n",
       "    <tr>\n",
       "      <th>2</th>\n",
       "      <td>71.43</td>\n",
       "      <td>13.68</td>\n",
       "      <td>3.15</td>\n",
       "      <td>0.63</td>\n",
       "      <td>1.93</td>\n",
       "      <td>2.85</td>\n",
       "      <td>5.53</td>\n",
       "      <td>0.604</td>\n",
       "      <td>0.19</td>\n",
       "      <td>0.066</td>\n",
       "    </tr>\n",
       "    <tr>\n",
       "      <th>3</th>\n",
       "      <td>70.12</td>\n",
       "      <td>13.48</td>\n",
       "      <td>3.29</td>\n",
       "      <td>0.60</td>\n",
       "      <td>1.89</td>\n",
       "      <td>2.83</td>\n",
       "      <td>5.62</td>\n",
       "      <td>0.602</td>\n",
       "      <td>0.19</td>\n",
       "      <td>0.068</td>\n",
       "    </tr>\n",
       "    <tr>\n",
       "      <th>4</th>\n",
       "      <td>71.33</td>\n",
       "      <td>13.80</td>\n",
       "      <td>2.56</td>\n",
       "      <td>0.43</td>\n",
       "      <td>1.50</td>\n",
       "      <td>2.92</td>\n",
       "      <td>5.40</td>\n",
       "      <td>0.356</td>\n",
       "      <td>0.07</td>\n",
       "      <td>0.041</td>\n",
       "    </tr>\n",
       "  </tbody>\n",
       "</table>\n",
       "</div>"
      ],
      "text/plain": [
       "    SiO2  Al2O3  Fe2O3   MgO   CaO  Na2O   K2O   TiO2  P2O5    MnO\n",
       "0  72.00  13.11   2.34  0.42  1.51  2.66  5.98  0.379  0.13  0.049\n",
       "1  70.16  14.08   3.81  0.67  2.08  2.70  5.67  0.634  0.20  0.076\n",
       "2  71.43  13.68   3.15  0.63  1.93  2.85  5.53  0.604  0.19  0.066\n",
       "3  70.12  13.48   3.29  0.60  1.89  2.83  5.62  0.602  0.19  0.068\n",
       "4  71.33  13.80   2.56  0.43  1.50  2.92  5.40  0.356  0.07  0.041"
      ]
     },
     "execution_count": 5,
     "metadata": {},
     "output_type": "execute_result"
    }
   ],
   "source": [
    "df = df.drop(columns=['id', 'sample', 'LOI', 'Total'])\n",
    "df.head()"
   ]
  },
  {
   "cell_type": "markdown",
   "id": "c6209b6f-13a8-4245-9c10-feccc232d54a",
   "metadata": {},
   "source": [
    "### Variáveis necessárias para cada modelo\n",
    "\n",
    "\n",
    "\n",
    "**Modelo A:** SiO2, Al2O3, Fe2O3, MgO, CaO, Na2O, K2O, TiO2, P2O5 e MnO\n",
    "\n",
    "**Modelo B:** SiO2, Al2O3, Fe2O3, MgO, CaO, Na2O, K2O, TiO2, P2O5, MnO, Rb, Ba, Sr, Zr, Y e Nb\n",
    "\n",
    "**Modelo C:** SiO2, Al2O3, Fe2O3, MgO, CaO, Na2O, K2O, TiO2, P2O5, MnO, Rb, Ba, Sr, Zr, Y, Nb e La"
   ]
  },
  {
   "cell_type": "markdown",
   "id": "e373c20b-f001-4f48-adcf-54cdf9682800",
   "metadata": {},
   "source": [
    "# Escolha do modelo a ser aplicado "
   ]
  },
  {
   "cell_type": "code",
   "execution_count": 6,
   "id": "ad47aebf-8e51-4a8a-9413-e94ac0e4ee99",
   "metadata": {},
   "outputs": [
    {
     "name": "stdin",
     "output_type": "stream",
     "text": [
      "Qual modelo será aplicado? (A, B ou C)  a\n"
     ]
    }
   ],
   "source": [
    "opcao = str(input('Qual modelo será aplicado? (A, B ou C) ')).strip().upper()"
   ]
  },
  {
   "cell_type": "code",
   "execution_count": 7,
   "id": "5f7d4734-3d82-46f7-b7e5-1f06995a8dc0",
   "metadata": {},
   "outputs": [],
   "source": [
    "if opcao == 'A':\n",
    "    file = open('model_a', 'rb')\n",
    "    model = pickle.load(file)\n",
    "if opcao == 'B':\n",
    "    file = open('model_b', 'rb')\n",
    "    model = pickle.load(file)\n",
    "if opcao == 'C':\n",
    "    file = open('model_c', 'rb')\n",
    "    model = pickle.load(file)"
   ]
  },
  {
   "cell_type": "markdown",
   "id": "2dab517f-5eff-4955-aa8e-def34c33c445",
   "metadata": {},
   "source": [
    "# Inferir "
   ]
  },
  {
   "cell_type": "code",
   "execution_count": 8,
   "id": "32489a01-4f88-4d35-87ab-6e8f833ef017",
   "metadata": {},
   "outputs": [
    {
     "data": {
      "text/plain": [
       "array([0, 0, 0, 0, 0, 0, 0, 0, 0, 0, 0, 1, 0, 0, 0, 0, 0, 0, 0, 0])"
      ]
     },
     "execution_count": 8,
     "metadata": {},
     "output_type": "execute_result"
    }
   ],
   "source": [
    "# inferir\n",
    "model.predict(df)"
   ]
  }
 ],
 "metadata": {
  "kernelspec": {
   "display_name": "Python",
   "language": "python",
   "name": "conda-env-python-py"
  },
  "language_info": {
   "codemirror_mode": {
    "name": "ipython",
    "version": 3
   },
   "file_extension": ".py",
   "mimetype": "text/x-python",
   "name": "python",
   "nbconvert_exporter": "python",
   "pygments_lexer": "ipython3",
   "version": "3.6.13"
  }
 },
 "nbformat": 4,
 "nbformat_minor": 5
}
