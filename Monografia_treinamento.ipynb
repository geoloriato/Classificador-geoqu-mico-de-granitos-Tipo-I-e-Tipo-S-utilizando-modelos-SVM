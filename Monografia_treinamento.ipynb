{
 "cells": [
  {
   "cell_type": "markdown",
   "id": "c9774563-55e7-4624-9e22-fe5bcdeb4b1a",
   "metadata": {},
   "source": [
    "# Importando as bibliotecas necessárias"
   ]
  },
  {
   "cell_type": "code",
   "execution_count": 1,
   "id": "a66d6594-433a-42be-9534-303ac5f825ec",
   "metadata": {},
   "outputs": [],
   "source": [
    "import numpy as np\n",
    "import pandas as pd\n",
    "import random\n",
    "import matplotlib.pyplot as plt\n",
    "import seaborn as sns\n",
    "import pickle \n",
    "\n",
    "from sklearn.preprocessing import LabelEncoder\n",
    "from sklearn.model_selection import train_test_split\n",
    "from sklearn.feature_selection import SelectKBest\n",
    "from sklearn.feature_selection import f_classif, mutual_info_classif\n",
    "from sklearn.svm import SVC\n",
    "from sklearn.metrics import accuracy_score\n",
    "from sklearn.metrics import confusion_matrix\n",
    "from sklearn.metrics import classification_report\n",
    "from sklearn.metrics import roc_curve\n",
    "from sklearn.metrics import roc_auc_score"
   ]
  },
  {
   "cell_type": "markdown",
   "id": "6b823329-b425-4054-9830-fa9ce8ba4a55",
   "metadata": {},
   "source": [
    "# Setando uma semente"
   ]
  },
  {
   "cell_type": "code",
   "execution_count": 2,
   "id": "bf73f801-d57b-4b9a-8c0c-638454356f12",
   "metadata": {},
   "outputs": [],
   "source": [
    "seed = 1\n",
    "random.seed(seed)\n",
    "np.random.seed(seed)"
   ]
  },
  {
   "cell_type": "markdown",
   "id": "fbaa2a2a-3bc5-4dae-87d1-13929c0763d3",
   "metadata": {},
   "source": [
    "# Importando o banco de dados"
   ]
  },
  {
   "cell_type": "code",
   "execution_count": 3,
   "id": "44bb9e52-5192-4e51-b9f4-bb575d31c377",
   "metadata": {},
   "outputs": [],
   "source": [
    "data = pd.read_csv('geoquimica.csv', ';')"
   ]
  },
  {
   "cell_type": "markdown",
   "id": "24c11503-9fc8-4b10-97dc-7a505ea92070",
   "metadata": {},
   "source": [
    "### Análise exploratória dos dados"
   ]
  },
  {
   "cell_type": "code",
   "execution_count": 4,
   "id": "ac38a38c-38d8-45cb-b320-eda4d615d83d",
   "metadata": {},
   "outputs": [
    {
     "data": {
      "text/html": [
       "<div>\n",
       "<style scoped>\n",
       "    .dataframe tbody tr th:only-of-type {\n",
       "        vertical-align: middle;\n",
       "    }\n",
       "\n",
       "    .dataframe tbody tr th {\n",
       "        vertical-align: top;\n",
       "    }\n",
       "\n",
       "    .dataframe thead th {\n",
       "        text-align: right;\n",
       "    }\n",
       "</style>\n",
       "<table border=\"1\" class=\"dataframe\">\n",
       "  <thead>\n",
       "    <tr style=\"text-align: right;\">\n",
       "      <th></th>\n",
       "      <th>id</th>\n",
       "      <th>sample</th>\n",
       "      <th>SiO2</th>\n",
       "      <th>Al2O3</th>\n",
       "      <th>Fe2O3</th>\n",
       "      <th>MgO</th>\n",
       "      <th>CaO</th>\n",
       "      <th>Na2O</th>\n",
       "      <th>K2O</th>\n",
       "      <th>TiO2</th>\n",
       "      <th>...</th>\n",
       "      <th>Eu</th>\n",
       "      <th>Gd</th>\n",
       "      <th>Tb</th>\n",
       "      <th>Dy</th>\n",
       "      <th>Ho</th>\n",
       "      <th>Er</th>\n",
       "      <th>Tm</th>\n",
       "      <th>Yb</th>\n",
       "      <th>Lu</th>\n",
       "      <th>Type</th>\n",
       "    </tr>\n",
       "  </thead>\n",
       "  <tbody>\n",
       "    <tr>\n",
       "      <th>0</th>\n",
       "      <td>GS-01</td>\n",
       "      <td>SANA 04</td>\n",
       "      <td>73.84</td>\n",
       "      <td>13.45</td>\n",
       "      <td>1.71</td>\n",
       "      <td>0.34</td>\n",
       "      <td>1.16</td>\n",
       "      <td>2.76</td>\n",
       "      <td>5.57</td>\n",
       "      <td>0.382</td>\n",
       "      <td>...</td>\n",
       "      <td>0.99</td>\n",
       "      <td>6.6</td>\n",
       "      <td>0.8</td>\n",
       "      <td>3.6</td>\n",
       "      <td>0.5</td>\n",
       "      <td>1.1</td>\n",
       "      <td>0.12</td>\n",
       "      <td>0.6</td>\n",
       "      <td>0.07</td>\n",
       "      <td>s</td>\n",
       "    </tr>\n",
       "    <tr>\n",
       "      <th>1</th>\n",
       "      <td>GS-02</td>\n",
       "      <td>SANA 05</td>\n",
       "      <td>67.45</td>\n",
       "      <td>14.89</td>\n",
       "      <td>3.48</td>\n",
       "      <td>0.75</td>\n",
       "      <td>0.95</td>\n",
       "      <td>2.72</td>\n",
       "      <td>6.08</td>\n",
       "      <td>0.759</td>\n",
       "      <td>...</td>\n",
       "      <td>1.24</td>\n",
       "      <td>11.6</td>\n",
       "      <td>1.1</td>\n",
       "      <td>4.6</td>\n",
       "      <td>0.7</td>\n",
       "      <td>1.6</td>\n",
       "      <td>0.21</td>\n",
       "      <td>1.3</td>\n",
       "      <td>0.18</td>\n",
       "      <td>s</td>\n",
       "    </tr>\n",
       "    <tr>\n",
       "      <th>2</th>\n",
       "      <td>GS-03</td>\n",
       "      <td>SANA 06A</td>\n",
       "      <td>67.60</td>\n",
       "      <td>13.86</td>\n",
       "      <td>3.55</td>\n",
       "      <td>0.68</td>\n",
       "      <td>1.86</td>\n",
       "      <td>2.56</td>\n",
       "      <td>5.88</td>\n",
       "      <td>0.744</td>\n",
       "      <td>...</td>\n",
       "      <td>2.36</td>\n",
       "      <td>12.5</td>\n",
       "      <td>1.5</td>\n",
       "      <td>7.2</td>\n",
       "      <td>1.3</td>\n",
       "      <td>3.5</td>\n",
       "      <td>0.49</td>\n",
       "      <td>2.7</td>\n",
       "      <td>0.34</td>\n",
       "      <td>s</td>\n",
       "    </tr>\n",
       "    <tr>\n",
       "      <th>3</th>\n",
       "      <td>GS-04</td>\n",
       "      <td>SANA 06B</td>\n",
       "      <td>68.21</td>\n",
       "      <td>14.61</td>\n",
       "      <td>3.69</td>\n",
       "      <td>0.80</td>\n",
       "      <td>1.98</td>\n",
       "      <td>2.91</td>\n",
       "      <td>5.08</td>\n",
       "      <td>0.898</td>\n",
       "      <td>...</td>\n",
       "      <td>1.81</td>\n",
       "      <td>9.1</td>\n",
       "      <td>0.9</td>\n",
       "      <td>4.2</td>\n",
       "      <td>0.7</td>\n",
       "      <td>1.8</td>\n",
       "      <td>0.21</td>\n",
       "      <td>1.1</td>\n",
       "      <td>0.14</td>\n",
       "      <td>s</td>\n",
       "    </tr>\n",
       "    <tr>\n",
       "      <th>4</th>\n",
       "      <td>GS-05</td>\n",
       "      <td>SANA 07</td>\n",
       "      <td>69.38</td>\n",
       "      <td>14.38</td>\n",
       "      <td>2.45</td>\n",
       "      <td>0.57</td>\n",
       "      <td>1.89</td>\n",
       "      <td>2.79</td>\n",
       "      <td>5.77</td>\n",
       "      <td>0.587</td>\n",
       "      <td>...</td>\n",
       "      <td>1.54</td>\n",
       "      <td>5.7</td>\n",
       "      <td>0.6</td>\n",
       "      <td>2.8</td>\n",
       "      <td>0.5</td>\n",
       "      <td>1.2</td>\n",
       "      <td>0.15</td>\n",
       "      <td>0.8</td>\n",
       "      <td>0.10</td>\n",
       "      <td>s</td>\n",
       "    </tr>\n",
       "  </tbody>\n",
       "</table>\n",
       "<p>5 rows × 50 columns</p>\n",
       "</div>"
      ],
      "text/plain": [
       "      id    sample   SiO2  Al2O3  Fe2O3   MgO   CaO  Na2O   K2O   TiO2  ...  \\\n",
       "0  GS-01   SANA 04  73.84  13.45   1.71  0.34  1.16  2.76  5.57  0.382  ...   \n",
       "1  GS-02   SANA 05  67.45  14.89   3.48  0.75  0.95  2.72  6.08  0.759  ...   \n",
       "2  GS-03  SANA 06A  67.60  13.86   3.55  0.68  1.86  2.56  5.88  0.744  ...   \n",
       "3  GS-04  SANA 06B  68.21  14.61   3.69  0.80  1.98  2.91  5.08  0.898  ...   \n",
       "4  GS-05   SANA 07  69.38  14.38   2.45  0.57  1.89  2.79  5.77  0.587  ...   \n",
       "\n",
       "     Eu    Gd   Tb   Dy   Ho   Er    Tm   Yb    Lu  Type  \n",
       "0  0.99   6.6  0.8  3.6  0.5  1.1  0.12  0.6  0.07     s  \n",
       "1  1.24  11.6  1.1  4.6  0.7  1.6  0.21  1.3  0.18     s  \n",
       "2  2.36  12.5  1.5  7.2  1.3  3.5  0.49  2.7  0.34     s  \n",
       "3  1.81   9.1  0.9  4.2  0.7  1.8  0.21  1.1  0.14     s  \n",
       "4  1.54   5.7  0.6  2.8  0.5  1.2  0.15  0.8  0.10     s  \n",
       "\n",
       "[5 rows x 50 columns]"
      ]
     },
     "execution_count": 4,
     "metadata": {},
     "output_type": "execute_result"
    }
   ],
   "source": [
    "# Exibe as 5 primeiras linhas do databese \n",
    "data.head()"
   ]
  },
  {
   "cell_type": "code",
   "execution_count": 5,
   "id": "980c56c8-d9c5-4c01-850f-babdf999021f",
   "metadata": {},
   "outputs": [
    {
     "data": {
      "text/plain": [
       "(543, 50)"
      ]
     },
     "execution_count": 5,
     "metadata": {},
     "output_type": "execute_result"
    }
   ],
   "source": [
    "# Exibe o tamanho do database (n° de linhas/n° de colunas)\n",
    "data.shape"
   ]
  },
  {
   "cell_type": "code",
   "execution_count": 6,
   "id": "e54e61c7-a573-4243-9ef3-3b07d5f39a6e",
   "metadata": {},
   "outputs": [
    {
     "name": "stdout",
     "output_type": "stream",
     "text": [
      "<class 'pandas.core.frame.DataFrame'>\n",
      "RangeIndex: 543 entries, 0 to 542\n",
      "Data columns (total 50 columns):\n",
      " #   Column  Non-Null Count  Dtype  \n",
      "---  ------  --------------  -----  \n",
      " 0   id      543 non-null    object \n",
      " 1   sample  543 non-null    object \n",
      " 2   SiO2    543 non-null    float64\n",
      " 3   Al2O3   543 non-null    float64\n",
      " 4   Fe2O3   543 non-null    float64\n",
      " 5   MgO     543 non-null    float64\n",
      " 6   CaO     543 non-null    float64\n",
      " 7   Na2O    543 non-null    float64\n",
      " 8   K2O     543 non-null    float64\n",
      " 9   TiO2    543 non-null    float64\n",
      " 10  P2O5    541 non-null    float64\n",
      " 11  MnO     530 non-null    float64\n",
      " 12  LOI     506 non-null    float64\n",
      " 13  Total   543 non-null    float64\n",
      " 14  Cs      296 non-null    float64\n",
      " 15  Rb      530 non-null    float64\n",
      " 16  Ba      497 non-null    float64\n",
      " 17  Sr      518 non-null    float64\n",
      " 18  Pb      420 non-null    float64\n",
      " 19  Th      470 non-null    float64\n",
      " 20  U       474 non-null    object \n",
      " 21  Zr      503 non-null    float64\n",
      " 22  Hf      354 non-null    float64\n",
      " 23  Ta      344 non-null    float64\n",
      " 24  Y       506 non-null    float64\n",
      " 25  Nb      491 non-null    float64\n",
      " 26  Sc      369 non-null    float64\n",
      " 27  Cr      336 non-null    float64\n",
      " 28  Ni      344 non-null    float64\n",
      " 29  Co      203 non-null    float64\n",
      " 30  V       350 non-null    float64\n",
      " 31  W       114 non-null    float64\n",
      " 32  Ga      447 non-null    float64\n",
      " 33  Zn      353 non-null    float64\n",
      " 34  Cu      270 non-null    float64\n",
      " 35  La      486 non-null    float64\n",
      " 36  Ce      471 non-null    float64\n",
      " 37  Pr      318 non-null    float64\n",
      " 38  Nd      393 non-null    float64\n",
      " 39  Sm      393 non-null    float64\n",
      " 40  Eu      393 non-null    float64\n",
      " 41  Gd      394 non-null    float64\n",
      " 42  Tb      379 non-null    float64\n",
      " 43  Dy      351 non-null    float64\n",
      " 44  Ho      390 non-null    float64\n",
      " 45  Er      351 non-null    float64\n",
      " 46  Tm      341 non-null    float64\n",
      " 47  Yb      384 non-null    float64\n",
      " 48  Lu      392 non-null    float64\n",
      " 49  Type    543 non-null    object \n",
      "dtypes: float64(46), object(4)\n",
      "memory usage: 212.2+ KB\n"
     ]
    }
   ],
   "source": [
    "# Exibe informações do database\n",
    "data.info()"
   ]
  },
  {
   "cell_type": "code",
   "execution_count": 7,
   "id": "56ccf625-0599-4a45-8008-499ee7f71c18",
   "metadata": {},
   "outputs": [
    {
     "data": {
      "text/plain": [
       "id          0\n",
       "sample      0\n",
       "SiO2        0\n",
       "Al2O3       0\n",
       "Fe2O3       0\n",
       "MgO         0\n",
       "CaO         0\n",
       "Na2O        0\n",
       "K2O         0\n",
       "TiO2        0\n",
       "P2O5        2\n",
       "MnO        13\n",
       "LOI        37\n",
       "Total       0\n",
       "Cs        247\n",
       "Rb         13\n",
       "Ba         46\n",
       "Sr         25\n",
       "Pb        123\n",
       "Th         73\n",
       "U          69\n",
       "Zr         40\n",
       "Hf        189\n",
       "Ta        199\n",
       "Y          37\n",
       "Nb         52\n",
       "Sc        174\n",
       "Cr        207\n",
       "Ni        199\n",
       "Co        340\n",
       "V         193\n",
       "W         429\n",
       "Ga         96\n",
       "Zn        190\n",
       "Cu        273\n",
       "La         57\n",
       "Ce         72\n",
       "Pr        225\n",
       "Nd        150\n",
       "Sm        150\n",
       "Eu        150\n",
       "Gd        149\n",
       "Tb        164\n",
       "Dy        192\n",
       "Ho        153\n",
       "Er        192\n",
       "Tm        202\n",
       "Yb        159\n",
       "Lu        151\n",
       "Type        0\n",
       "dtype: int64"
      ]
     },
     "execution_count": 7,
     "metadata": {},
     "output_type": "execute_result"
    }
   ],
   "source": [
    "# Exibe a quantidade de valores núlos por variável \n",
    "data.isnull().sum()"
   ]
  },
  {
   "cell_type": "code",
   "execution_count": 8,
   "id": "7a7c251a-aaad-4411-87d2-b8c95e6b6e86",
   "metadata": {},
   "outputs": [
    {
     "data": {
      "text/plain": [
       "Text(0, 0.5, 'La')"
      ]
     },
     "execution_count": 8,
     "metadata": {},
     "output_type": "execute_result"
    },
    {
     "data": {
      "image/png": "[encoded data removed]",
      "text/plain": [
       "<Figure size 1440x1152 with 17 Axes>"
      ]
     },
     "metadata": {
      "needs_background": "light"
     },
     "output_type": "display_data"
    }
   ],
   "source": [
    "# Exibindo boxplots das variáves selecionadas para treinar os três modelos\n",
    "\n",
    "plt.figure(figsize=(20, 16))\n",
    "\n",
    "\n",
    "plt.subplot(5, 4, 1)\n",
    "fig = data.boxplot(column='SiO2')\n",
    "fig.set_title('')\n",
    "fig.set_ylabel('SiO2')\n",
    "\n",
    "\n",
    "plt.subplot(5, 4, 2)\n",
    "fig = data.boxplot(column='Al2O3')\n",
    "fig.set_title('')\n",
    "fig.set_ylabel('Al2O3')\n",
    "\n",
    "\n",
    "plt.subplot(5, 4, 3)\n",
    "fig = data.boxplot(column='Fe2O3')\n",
    "fig.set_title('')\n",
    "fig.set_ylabel('Fe2O3')\n",
    "\n",
    "\n",
    "plt.subplot(5, 4, 4)\n",
    "fig = data.boxplot(column='MgO')\n",
    "fig.set_title('')\n",
    "fig.set_ylabel('MgO')\n",
    "\n",
    "\n",
    "plt.subplot(5, 4, 5)\n",
    "fig = data.boxplot(column='CaO')\n",
    "fig.set_title('')\n",
    "fig.set_ylabel('CaO')\n",
    "\n",
    "\n",
    "plt.subplot(5, 4, 6)\n",
    "fig = data.boxplot(column='Na2O')\n",
    "fig.set_title('')\n",
    "fig.set_ylabel('Na2O')\n",
    "\n",
    "\n",
    "plt.subplot(5, 4, 7)\n",
    "fig = data.boxplot(column='K2O')\n",
    "fig.set_title('')\n",
    "fig.set_ylabel('K2O')\n",
    "\n",
    "\n",
    "plt.subplot(5, 4, 8)\n",
    "fig = data.boxplot(column='TiO2')\n",
    "fig.set_title('')\n",
    "fig.set_ylabel('TiO2')\n",
    "\n",
    "\n",
    "plt.subplot(5, 4, 9)\n",
    "fig = data.boxplot(column='P2O5')\n",
    "fig.set_title('')\n",
    "fig.set_ylabel('P2O5')\n",
    "\n",
    "\n",
    "plt.subplot(5, 4, 10)\n",
    "fig = data.boxplot(column='MnO')\n",
    "fig.set_title('')\n",
    "fig.set_ylabel('MnO')\n",
    "\n",
    "plt.subplot(5, 4, 11)\n",
    "fig = data.boxplot(column='Rb')\n",
    "fig.set_title('')\n",
    "fig.set_ylabel('Rb')\n",
    "\n",
    "\n",
    "plt.subplot(5, 4, 12)\n",
    "fig = data.boxplot(column='Ba')\n",
    "fig.set_title('')\n",
    "fig.set_ylabel('Ba')\n",
    "\n",
    "\n",
    "plt.subplot(5, 4, 13)\n",
    "fig = data.boxplot(column='Sr')\n",
    "fig.set_title('')\n",
    "fig.set_ylabel('Sr')\n",
    "\n",
    "\n",
    "plt.subplot(5, 4, 14)\n",
    "fig = data.boxplot(column='Zr')\n",
    "fig.set_title('')\n",
    "fig.set_ylabel('Zr')\n",
    "\n",
    "\n",
    "plt.subplot(5, 4, 15)\n",
    "fig = data.boxplot(column='Y')\n",
    "fig.set_title('')\n",
    "fig.set_ylabel('Y')\n",
    "\n",
    "\n",
    "plt.subplot(5, 4, 16)\n",
    "fig = data.boxplot(column='Nb')\n",
    "fig.set_title('')\n",
    "fig.set_ylabel('Nb')\n",
    "\n",
    "\n",
    "plt.subplot(5, 4, 17)\n",
    "fig = data.boxplot(column='La')\n",
    "fig.set_title('')\n",
    "fig.set_ylabel('La')"
   ]
  },
  {
   "cell_type": "code",
   "execution_count": 9,
   "id": "0540ca7e-da6d-4570-ab61-497b323aa16f",
   "metadata": {},
   "outputs": [
    {
     "data": {
      "text/plain": [
       "Text(0, 0.5, '%')"
      ]
     },
     "execution_count": 9,
     "metadata": {},
     "output_type": "execute_result"
    },
    {
     "data": {
      "image/png": "[encoded data removed]",
      "text/plain": [
       "<Figure size 1728x1440 with 17 Axes>"
      ]
     },
     "metadata": {
      "needs_background": "light"
     },
     "output_type": "display_data"
    }
   ],
   "source": [
    "# Checar a distribuição das variáves atrvés de histogramas \n",
    "\n",
    "\n",
    "plt.figure(figsize=(24,20))\n",
    "\n",
    "\n",
    "plt.subplot(5, 4, 1)\n",
    "fig = data['SiO2'].hist(bins=20)\n",
    "fig.set_xlabel('SiO2')\n",
    "fig.set_ylabel('%')\n",
    "\n",
    "\n",
    "plt.subplot(5, 4, 2)\n",
    "fig = data['Al2O3'].hist(bins=20)\n",
    "fig.set_xlabel('Al2O3')\n",
    "fig.set_ylabel('%')\n",
    "\n",
    "\n",
    "plt.subplot(5, 4, 3)\n",
    "fig = data['Fe2O3'].hist(bins=20)\n",
    "fig.set_xlabel('Fe2O3')\n",
    "fig.set_ylabel('%')\n",
    "\n",
    "\n",
    "plt.subplot(5, 4, 4)\n",
    "fig = data['MgO'].hist(bins=20)\n",
    "fig.set_xlabel('MgO')\n",
    "fig.set_ylabel('%')\n",
    "\n",
    "\n",
    "plt.subplot(5, 4, 5)\n",
    "fig = data['CaO'].hist(bins=20)\n",
    "fig.set_xlabel('CaO')\n",
    "fig.set_ylabel('%')\n",
    "\n",
    "\n",
    "plt.subplot(5, 4, 6)\n",
    "fig = data['Na2O'].hist(bins=20)\n",
    "fig.set_xlabel('Na2O')\n",
    "fig.set_ylabel('%')\n",
    "\n",
    "\n",
    "plt.subplot(5, 4, 7)\n",
    "fig = data['K2O'].hist(bins=20)\n",
    "fig.set_xlabel('K2O')\n",
    "fig.set_ylabel('%')\n",
    "\n",
    "\n",
    "plt.subplot(5, 4, 8)\n",
    "fig = data['TiO2'].hist(bins=20)\n",
    "fig.set_xlabel('TiO2')\n",
    "fig.set_ylabel('%')\n",
    "\n",
    "\n",
    "plt.subplot(5, 4, 9)\n",
    "fig = data['P2O5'].hist(bins=20)\n",
    "fig.set_xlabel('P2O5')\n",
    "fig.set_ylabel('%')\n",
    "\n",
    "\n",
    "plt.subplot(5, 4, 10)\n",
    "fig = data['MnO'].hist(bins=20)\n",
    "fig.set_xlabel('MnO')\n",
    "fig.set_ylabel('%')\n",
    "\n",
    "plt.subplot(5, 4, 11)\n",
    "fig = data['Rb'].hist(bins=20)\n",
    "fig.set_xlabel('Rb')\n",
    "fig.set_ylabel('%')\n",
    "\n",
    "\n",
    "plt.subplot(5, 4, 12)\n",
    "fig = data['Ba'].hist(bins=20)\n",
    "fig.set_xlabel('Ba')\n",
    "fig.set_ylabel('%')\n",
    "\n",
    "\n",
    "plt.subplot(5, 4, 13)\n",
    "fig = data['Sr'].hist(bins=20)\n",
    "fig.set_xlabel('Sr')\n",
    "fig.set_ylabel('%')\n",
    "\n",
    "\n",
    "plt.subplot(5, 4, 14)\n",
    "fig = data['Zr'].hist(bins=20)\n",
    "fig.set_xlabel('Zr')\n",
    "fig.set_ylabel('%')\n",
    "\n",
    "\n",
    "plt.subplot(5, 4, 15)\n",
    "fig = data['Y'].hist(bins=20)\n",
    "fig.set_xlabel('Y')\n",
    "fig.set_ylabel('%')\n",
    "\n",
    "\n",
    "plt.subplot(5, 4, 16)\n",
    "fig = data['Nb'].hist(bins=20)\n",
    "fig.set_xlabel('Nb')\n",
    "fig.set_ylabel('%')\n",
    "\n",
    "\n",
    "plt.subplot(5, 4, 17)\n",
    "fig = data['La'].hist(bins=20)\n",
    "fig.set_xlabel('La')\n",
    "fig.set_ylabel('%')"
   ]
  },
  {
   "cell_type": "markdown",
   "id": "74e05f23-6450-47f0-a110-d4f1daf49798",
   "metadata": {},
   "source": [
    "# Alterando as etiquetas do formato string para int"
   ]
  },
  {
   "cell_type": "code",
   "execution_count": 10,
   "id": "a4e6f291-446f-4a0a-bdcd-7f2a8788f868",
   "metadata": {},
   "outputs": [],
   "source": [
    "le = LabelEncoder()\n",
    "data['label'] = le.fit_transform(data['Type'])"
   ]
  },
  {
   "cell_type": "code",
   "execution_count": 11,
   "id": "b7e8b665-36a7-41bd-9d15-fb300f076208",
   "metadata": {},
   "outputs": [
    {
     "data": {
      "text/html": [
       "<div>\n",
       "<style scoped>\n",
       "    .dataframe tbody tr th:only-of-type {\n",
       "        vertical-align: middle;\n",
       "    }\n",
       "\n",
       "    .dataframe tbody tr th {\n",
       "        vertical-align: top;\n",
       "    }\n",
       "\n",
       "    .dataframe thead th {\n",
       "        text-align: right;\n",
       "    }\n",
       "</style>\n",
       "<table border=\"1\" class=\"dataframe\">\n",
       "  <thead>\n",
       "    <tr style=\"text-align: right;\">\n",
       "      <th></th>\n",
       "      <th>id</th>\n",
       "      <th>sample</th>\n",
       "      <th>SiO2</th>\n",
       "      <th>Al2O3</th>\n",
       "      <th>Fe2O3</th>\n",
       "      <th>MgO</th>\n",
       "      <th>CaO</th>\n",
       "      <th>Na2O</th>\n",
       "      <th>K2O</th>\n",
       "      <th>TiO2</th>\n",
       "      <th>...</th>\n",
       "      <th>Gd</th>\n",
       "      <th>Tb</th>\n",
       "      <th>Dy</th>\n",
       "      <th>Ho</th>\n",
       "      <th>Er</th>\n",
       "      <th>Tm</th>\n",
       "      <th>Yb</th>\n",
       "      <th>Lu</th>\n",
       "      <th>Type</th>\n",
       "      <th>label</th>\n",
       "    </tr>\n",
       "  </thead>\n",
       "  <tbody>\n",
       "    <tr>\n",
       "      <th>0</th>\n",
       "      <td>GS-01</td>\n",
       "      <td>SANA 04</td>\n",
       "      <td>73.84</td>\n",
       "      <td>13.45</td>\n",
       "      <td>1.71</td>\n",
       "      <td>0.34</td>\n",
       "      <td>1.16</td>\n",
       "      <td>2.76</td>\n",
       "      <td>5.57</td>\n",
       "      <td>0.382</td>\n",
       "      <td>...</td>\n",
       "      <td>6.6</td>\n",
       "      <td>0.8</td>\n",
       "      <td>3.6</td>\n",
       "      <td>0.5</td>\n",
       "      <td>1.1</td>\n",
       "      <td>0.12</td>\n",
       "      <td>0.6</td>\n",
       "      <td>0.07</td>\n",
       "      <td>s</td>\n",
       "      <td>1</td>\n",
       "    </tr>\n",
       "    <tr>\n",
       "      <th>1</th>\n",
       "      <td>GS-02</td>\n",
       "      <td>SANA 05</td>\n",
       "      <td>67.45</td>\n",
       "      <td>14.89</td>\n",
       "      <td>3.48</td>\n",
       "      <td>0.75</td>\n",
       "      <td>0.95</td>\n",
       "      <td>2.72</td>\n",
       "      <td>6.08</td>\n",
       "      <td>0.759</td>\n",
       "      <td>...</td>\n",
       "      <td>11.6</td>\n",
       "      <td>1.1</td>\n",
       "      <td>4.6</td>\n",
       "      <td>0.7</td>\n",
       "      <td>1.6</td>\n",
       "      <td>0.21</td>\n",
       "      <td>1.3</td>\n",
       "      <td>0.18</td>\n",
       "      <td>s</td>\n",
       "      <td>1</td>\n",
       "    </tr>\n",
       "    <tr>\n",
       "      <th>2</th>\n",
       "      <td>GS-03</td>\n",
       "      <td>SANA 06A</td>\n",
       "      <td>67.60</td>\n",
       "      <td>13.86</td>\n",
       "      <td>3.55</td>\n",
       "      <td>0.68</td>\n",
       "      <td>1.86</td>\n",
       "      <td>2.56</td>\n",
       "      <td>5.88</td>\n",
       "      <td>0.744</td>\n",
       "      <td>...</td>\n",
       "      <td>12.5</td>\n",
       "      <td>1.5</td>\n",
       "      <td>7.2</td>\n",
       "      <td>1.3</td>\n",
       "      <td>3.5</td>\n",
       "      <td>0.49</td>\n",
       "      <td>2.7</td>\n",
       "      <td>0.34</td>\n",
       "      <td>s</td>\n",
       "      <td>1</td>\n",
       "    </tr>\n",
       "    <tr>\n",
       "      <th>3</th>\n",
       "      <td>GS-04</td>\n",
       "      <td>SANA 06B</td>\n",
       "      <td>68.21</td>\n",
       "      <td>14.61</td>\n",
       "      <td>3.69</td>\n",
       "      <td>0.80</td>\n",
       "      <td>1.98</td>\n",
       "      <td>2.91</td>\n",
       "      <td>5.08</td>\n",
       "      <td>0.898</td>\n",
       "      <td>...</td>\n",
       "      <td>9.1</td>\n",
       "      <td>0.9</td>\n",
       "      <td>4.2</td>\n",
       "      <td>0.7</td>\n",
       "      <td>1.8</td>\n",
       "      <td>0.21</td>\n",
       "      <td>1.1</td>\n",
       "      <td>0.14</td>\n",
       "      <td>s</td>\n",
       "      <td>1</td>\n",
       "    </tr>\n",
       "    <tr>\n",
       "      <th>4</th>\n",
       "      <td>GS-05</td>\n",
       "      <td>SANA 07</td>\n",
       "      <td>69.38</td>\n",
       "      <td>14.38</td>\n",
       "      <td>2.45</td>\n",
       "      <td>0.57</td>\n",
       "      <td>1.89</td>\n",
       "      <td>2.79</td>\n",
       "      <td>5.77</td>\n",
       "      <td>0.587</td>\n",
       "      <td>...</td>\n",
       "      <td>5.7</td>\n",
       "      <td>0.6</td>\n",
       "      <td>2.8</td>\n",
       "      <td>0.5</td>\n",
       "      <td>1.2</td>\n",
       "      <td>0.15</td>\n",
       "      <td>0.8</td>\n",
       "      <td>0.10</td>\n",
       "      <td>s</td>\n",
       "      <td>1</td>\n",
       "    </tr>\n",
       "  </tbody>\n",
       "</table>\n",
       "<p>5 rows × 51 columns</p>\n",
       "</div>"
      ],
      "text/plain": [
       "      id    sample   SiO2  Al2O3  Fe2O3   MgO   CaO  Na2O   K2O   TiO2  ...  \\\n",
       "0  GS-01   SANA 04  73.84  13.45   1.71  0.34  1.16  2.76  5.57  0.382  ...   \n",
       "1  GS-02   SANA 05  67.45  14.89   3.48  0.75  0.95  2.72  6.08  0.759  ...   \n",
       "2  GS-03  SANA 06A  67.60  13.86   3.55  0.68  1.86  2.56  5.88  0.744  ...   \n",
       "3  GS-04  SANA 06B  68.21  14.61   3.69  0.80  1.98  2.91  5.08  0.898  ...   \n",
       "4  GS-05   SANA 07  69.38  14.38   2.45  0.57  1.89  2.79  5.77  0.587  ...   \n",
       "\n",
       "     Gd   Tb   Dy   Ho   Er    Tm   Yb    Lu  Type  label  \n",
       "0   6.6  0.8  3.6  0.5  1.1  0.12  0.6  0.07     s      1  \n",
       "1  11.6  1.1  4.6  0.7  1.6  0.21  1.3  0.18     s      1  \n",
       "2  12.5  1.5  7.2  1.3  3.5  0.49  2.7  0.34     s      1  \n",
       "3   9.1  0.9  4.2  0.7  1.8  0.21  1.1  0.14     s      1  \n",
       "4   5.7  0.6  2.8  0.5  1.2  0.15  0.8  0.10     s      1  \n",
       "\n",
       "[5 rows x 51 columns]"
      ]
     },
     "execution_count": 11,
     "metadata": {},
     "output_type": "execute_result"
    }
   ],
   "source": [
    "data.head()"
   ]
  },
  {
   "cell_type": "markdown",
   "id": "37e43b2c-55b3-4584-a670-aeb50b071a65",
   "metadata": {},
   "source": [
    "# Validação dos dados"
   ]
  },
  {
   "cell_type": "markdown",
   "id": "e9c6027b-cbe9-45f3-a9a7-c02a4a9db337",
   "metadata": {},
   "source": [
    "Neste ponto é feita uma análise qualitativa dos dados,onde os dados que não atendem os critérios de qualidade adotados tradicionalmente são excluídos do dataset. Os critérios de exclusão de dados são:\n",
    "\n",
    "- LOI > 2.0\n",
    "- Total < 98.5 ou Total > 102"
   ]
  },
  {
   "cell_type": "code",
   "execution_count": 12,
   "id": "bd46c5af-e308-4818-9fbb-ff125a4c6b22",
   "metadata": {},
   "outputs": [],
   "source": [
    "data = data.drop(data[data.LOI >= 2.0].index)"
   ]
  },
  {
   "cell_type": "code",
   "execution_count": 13,
   "id": "001ca305-cafa-4b17-b1fd-30bdd6d3110a",
   "metadata": {},
   "outputs": [],
   "source": [
    "data = data.drop(data[(data.Total < 98.0) | (data.Total > 102.0)].index)"
   ]
  },
  {
   "cell_type": "code",
   "execution_count": 14,
   "id": "c9a83aae-dc8c-4847-b164-0ee36128d5c5",
   "metadata": {},
   "outputs": [
    {
     "data": {
      "text/plain": [
       "(505, 51)"
      ]
     },
     "execution_count": 14,
     "metadata": {},
     "output_type": "execute_result"
    }
   ],
   "source": [
    "# Tamanho final da base de dados\n",
    "data.shape"
   ]
  },
  {
   "cell_type": "markdown",
   "id": "1c06f41e-b483-4b61-a976-e49eb335a833",
   "metadata": {},
   "source": [
    "# Pré-processamento"
   ]
  },
  {
   "cell_type": "markdown",
   "id": "dc66b683-2833-41e8-abce-a1b7df2842bf",
   "metadata": {},
   "source": [
    "### Tratando missing values"
   ]
  },
  {
   "cell_type": "code",
   "execution_count": 15,
   "id": "9bdd2df7-3897-437b-bbfa-34de67b5e1d5",
   "metadata": {},
   "outputs": [],
   "source": [
    "# Criando uma cópia da base de dados\n",
    "df = data.copy().drop(columns=['id', 'Type', 'sample', 'LOI', 'Total', 'Cs', 'Pb', 'Th', 'U', 'Hf', 'Ta', 'Sc', 'Cr', 'Ni', 'Co', 'V', 'W', 'Ga', 'Zn', 'Cu', 'Ce', 'Pr', 'Nd', 'Sm', 'Eu', 'Gd', 'Tb', 'Dy', 'Ho', 'Er', 'Tm', 'Yb', 'Lu'])"
   ]
  },
  {
   "cell_type": "code",
   "execution_count": 16,
   "id": "32e41ebc-dd1d-4a26-89fb-a6d905f6e497",
   "metadata": {},
   "outputs": [],
   "source": [
    "# Calcular a mediana dos atributos com missing values\n",
    "\n",
    "mediana_p2o5 = df['P2O5'].median()\n",
    "mediana_mno = df['MnO'].median()\n",
    "mediana_rb = df['Rb'].median()\n",
    "mediana_ba = df['Ba'].median()\n",
    "mediana_sr = df['Sr'].median()\n",
    "mediana_zr = df['Zr'].median()\n",
    "mediana_y = df['Y'].median()\n",
    "mediana_nb = df['Nb'].median()\n",
    "mediana_la = df['La'].median()"
   ]
  },
  {
   "cell_type": "code",
   "execution_count": 17,
   "id": "c98aca45-e540-4a20-80d3-53360290e5b3",
   "metadata": {},
   "outputs": [],
   "source": [
    "# Substituir os valores faltantes pela mediana de cada variável\n",
    "\n",
    "df['P2O5'].fillna(mediana_p2o5, inplace=True)\n",
    "df['MnO'].fillna(mediana_mno, inplace=True)\n",
    "df['Rb'].fillna(mediana_rb, inplace=True)\n",
    "df['Ba'].fillna(mediana_ba, inplace=True)\n",
    "df['Sr'].fillna(mediana_sr, inplace=True)\n",
    "df['Zr'].fillna(mediana_zr, inplace=True)\n",
    "df['Y'].fillna(mediana_y, inplace=True)\n",
    "df['Nb'].fillna(mediana_nb, inplace=True)\n",
    "df['La'].fillna(mediana_la, inplace=True)"
   ]
  },
  {
   "cell_type": "markdown",
   "id": "d0f77f08-5bd1-49e2-8026-a5ed8f182233",
   "metadata": {},
   "source": [
    "### Conversão de unidades (ppm para %)"
   ]
  },
  {
   "cell_type": "code",
   "execution_count": 18,
   "id": "4a6e74df-c192-4bf8-91ca-e7ee4c791413",
   "metadata": {},
   "outputs": [],
   "source": [
    "df['Rb'] = df['Rb']/10000\n",
    "df['Ba'] = df['Ba']/10000\n",
    "df['Sr'] = df['Sr']/10000\n",
    "df['Zr'] = df['Zr']/10000\n",
    "df['Y'] = df['Y']/10000\n",
    "df['Nb'] = df['Nb']/10000\n",
    "df['La'] = df['La']/10000"
   ]
  },
  {
   "cell_type": "code",
   "execution_count": 19,
   "id": "e228cbbd-7205-4ede-a992-31ae9e8ad4f1",
   "metadata": {},
   "outputs": [
    {
     "data": {
      "text/html": [
       "<div>\n",
       "<style scoped>\n",
       "    .dataframe tbody tr th:only-of-type {\n",
       "        vertical-align: middle;\n",
       "    }\n",
       "\n",
       "    .dataframe tbody tr th {\n",
       "        vertical-align: top;\n",
       "    }\n",
       "\n",
       "    .dataframe thead th {\n",
       "        text-align: right;\n",
       "    }\n",
       "</style>\n",
       "<table border=\"1\" class=\"dataframe\">\n",
       "  <thead>\n",
       "    <tr style=\"text-align: right;\">\n",
       "      <th></th>\n",
       "      <th>SiO2</th>\n",
       "      <th>Al2O3</th>\n",
       "      <th>Fe2O3</th>\n",
       "      <th>MgO</th>\n",
       "      <th>CaO</th>\n",
       "      <th>Na2O</th>\n",
       "      <th>K2O</th>\n",
       "      <th>TiO2</th>\n",
       "      <th>P2O5</th>\n",
       "      <th>MnO</th>\n",
       "      <th>Rb</th>\n",
       "      <th>Ba</th>\n",
       "      <th>Sr</th>\n",
       "      <th>Zr</th>\n",
       "      <th>Y</th>\n",
       "      <th>Nb</th>\n",
       "      <th>La</th>\n",
       "      <th>label</th>\n",
       "    </tr>\n",
       "  </thead>\n",
       "  <tbody>\n",
       "    <tr>\n",
       "      <th>0</th>\n",
       "      <td>73.84</td>\n",
       "      <td>13.45</td>\n",
       "      <td>1.71</td>\n",
       "      <td>0.34</td>\n",
       "      <td>1.16</td>\n",
       "      <td>2.76</td>\n",
       "      <td>5.57</td>\n",
       "      <td>0.382</td>\n",
       "      <td>0.08</td>\n",
       "      <td>0.017</td>\n",
       "      <td>0.0262</td>\n",
       "      <td>0.0503</td>\n",
       "      <td>0.0113</td>\n",
       "      <td>0.0235</td>\n",
       "      <td>0.0011</td>\n",
       "      <td>0.0010</td>\n",
       "      <td>0.0126</td>\n",
       "      <td>1</td>\n",
       "    </tr>\n",
       "    <tr>\n",
       "      <th>1</th>\n",
       "      <td>67.45</td>\n",
       "      <td>14.89</td>\n",
       "      <td>3.48</td>\n",
       "      <td>0.75</td>\n",
       "      <td>0.95</td>\n",
       "      <td>2.72</td>\n",
       "      <td>6.08</td>\n",
       "      <td>0.759</td>\n",
       "      <td>0.27</td>\n",
       "      <td>0.040</td>\n",
       "      <td>0.0374</td>\n",
       "      <td>0.0637</td>\n",
       "      <td>0.0128</td>\n",
       "      <td>0.0364</td>\n",
       "      <td>0.0017</td>\n",
       "      <td>0.0018</td>\n",
       "      <td>0.0184</td>\n",
       "      <td>1</td>\n",
       "    </tr>\n",
       "    <tr>\n",
       "      <th>2</th>\n",
       "      <td>67.60</td>\n",
       "      <td>13.86</td>\n",
       "      <td>3.55</td>\n",
       "      <td>0.68</td>\n",
       "      <td>1.86</td>\n",
       "      <td>2.56</td>\n",
       "      <td>5.88</td>\n",
       "      <td>0.744</td>\n",
       "      <td>0.22</td>\n",
       "      <td>0.047</td>\n",
       "      <td>0.0266</td>\n",
       "      <td>0.1347</td>\n",
       "      <td>0.0260</td>\n",
       "      <td>0.0603</td>\n",
       "      <td>0.0032</td>\n",
       "      <td>0.0024</td>\n",
       "      <td>0.0241</td>\n",
       "      <td>1</td>\n",
       "    </tr>\n",
       "    <tr>\n",
       "      <th>3</th>\n",
       "      <td>68.21</td>\n",
       "      <td>14.61</td>\n",
       "      <td>3.69</td>\n",
       "      <td>0.80</td>\n",
       "      <td>1.98</td>\n",
       "      <td>2.91</td>\n",
       "      <td>5.08</td>\n",
       "      <td>0.898</td>\n",
       "      <td>0.26</td>\n",
       "      <td>0.045</td>\n",
       "      <td>0.0297</td>\n",
       "      <td>0.1256</td>\n",
       "      <td>0.0217</td>\n",
       "      <td>0.0667</td>\n",
       "      <td>0.0017</td>\n",
       "      <td>0.0017</td>\n",
       "      <td>0.0191</td>\n",
       "      <td>1</td>\n",
       "    </tr>\n",
       "    <tr>\n",
       "      <th>4</th>\n",
       "      <td>69.38</td>\n",
       "      <td>14.38</td>\n",
       "      <td>2.45</td>\n",
       "      <td>0.57</td>\n",
       "      <td>1.89</td>\n",
       "      <td>2.79</td>\n",
       "      <td>5.77</td>\n",
       "      <td>0.587</td>\n",
       "      <td>0.17</td>\n",
       "      <td>0.033</td>\n",
       "      <td>0.0271</td>\n",
       "      <td>0.1276</td>\n",
       "      <td>0.0213</td>\n",
       "      <td>0.0457</td>\n",
       "      <td>0.0010</td>\n",
       "      <td>0.0012</td>\n",
       "      <td>0.0140</td>\n",
       "      <td>1</td>\n",
       "    </tr>\n",
       "  </tbody>\n",
       "</table>\n",
       "</div>"
      ],
      "text/plain": [
       "    SiO2  Al2O3  Fe2O3   MgO   CaO  Na2O   K2O   TiO2  P2O5    MnO      Rb  \\\n",
       "0  73.84  13.45   1.71  0.34  1.16  2.76  5.57  0.382  0.08  0.017  0.0262   \n",
       "1  67.45  14.89   3.48  0.75  0.95  2.72  6.08  0.759  0.27  0.040  0.0374   \n",
       "2  67.60  13.86   3.55  0.68  1.86  2.56  5.88  0.744  0.22  0.047  0.0266   \n",
       "3  68.21  14.61   3.69  0.80  1.98  2.91  5.08  0.898  0.26  0.045  0.0297   \n",
       "4  69.38  14.38   2.45  0.57  1.89  2.79  5.77  0.587  0.17  0.033  0.0271   \n",
       "\n",
       "       Ba      Sr      Zr       Y      Nb      La  label  \n",
       "0  0.0503  0.0113  0.0235  0.0011  0.0010  0.0126      1  \n",
       "1  0.0637  0.0128  0.0364  0.0017  0.0018  0.0184      1  \n",
       "2  0.1347  0.0260  0.0603  0.0032  0.0024  0.0241      1  \n",
       "3  0.1256  0.0217  0.0667  0.0017  0.0017  0.0191      1  \n",
       "4  0.1276  0.0213  0.0457  0.0010  0.0012  0.0140      1  "
      ]
     },
     "execution_count": 19,
     "metadata": {},
     "output_type": "execute_result"
    }
   ],
   "source": [
    "df.head()"
   ]
  },
  {
   "cell_type": "markdown",
   "id": "850eca2a-32f2-45e5-80b1-5f8e133c2991",
   "metadata": {},
   "source": [
    "# Modelo A"
   ]
  },
  {
   "cell_type": "code",
   "execution_count": 20,
   "id": "a80a23c3-a3cf-49d3-a994-cc9dd52f266a",
   "metadata": {},
   "outputs": [],
   "source": [
    "# Criando uma copia da base de dados para treinar o modelo A\n",
    "\n",
    "df_model_a = df.copy().drop(columns=['Ba', 'Rb', 'Sr', 'Zr', 'Y', 'Nb', 'La'])"
   ]
  },
  {
   "cell_type": "code",
   "execution_count": 21,
   "id": "91115e50-da7c-4397-89f4-741821e35cb0",
   "metadata": {},
   "outputs": [],
   "source": [
    "# Separando as entradas (x) e saídas (y) do modelo\n",
    "\n",
    "X = df_model_a.drop(columns=['label'])\n",
    "y = df_model_a['label']"
   ]
  },
  {
   "cell_type": "code",
   "execution_count": 22,
   "id": "63a1ed53-92f3-45da-befb-bd580d1acd4e",
   "metadata": {},
   "outputs": [],
   "source": [
    "# separa a base em treino e teste\n",
    "\n",
    "X_train, X_test, y_train, y_test = train_test_split(X, y, test_size = 0.2, stratify=y)"
   ]
  },
  {
   "cell_type": "markdown",
   "id": "62152927-60f9-45d9-b205-2cb6f2ec6312",
   "metadata": {},
   "source": [
    "### Identificando as variáveis mais importantes "
   ]
  },
  {
   "cell_type": "code",
   "execution_count": 23,
   "id": "6259e49a-9b19-4f4b-b3b1-942e74936b52",
   "metadata": {},
   "outputs": [
    {
     "name": "stdout",
     "output_type": "stream",
     "text": [
      "[[7.384e+01 1.710e+00 3.400e-01 1.160e+00 3.820e-01 1.700e-02]\n",
      " [6.745e+01 3.480e+00 7.500e-01 9.500e-01 7.590e-01 4.000e-02]\n",
      " [6.760e+01 3.550e+00 6.800e-01 1.860e+00 7.440e-01 4.700e-02]\n",
      " ...\n",
      " [7.565e+01 1.350e+00 1.400e-01 9.800e-01 1.000e-01 4.000e-02]\n",
      " [7.212e+01 1.560e+00 1.580e+00 1.180e+00 3.800e-01 4.150e-02]\n",
      " [7.276e+01 1.390e+00 1.490e+00 1.270e+00 3.600e-01 4.150e-02]]\n"
     ]
    }
   ],
   "source": [
    "f_classif = SelectKBest(score_func=f_classif, k=6)\n",
    "fit = f_classif.fit(X,y)\n",
    "features = fit.transform(X)\n",
    "\n",
    "print(features)"
   ]
  },
  {
   "cell_type": "code",
   "execution_count": 24,
   "id": "2f9d0917-ceaf-4e98-bbdc-1eeed0d7c4cc",
   "metadata": {},
   "outputs": [
    {
     "data": {
      "text/html": [
       "<div>\n",
       "<style scoped>\n",
       "    .dataframe tbody tr th:only-of-type {\n",
       "        vertical-align: middle;\n",
       "    }\n",
       "\n",
       "    .dataframe tbody tr th {\n",
       "        vertical-align: top;\n",
       "    }\n",
       "\n",
       "    .dataframe thead th {\n",
       "        text-align: right;\n",
       "    }\n",
       "</style>\n",
       "<table border=\"1\" class=\"dataframe\">\n",
       "  <thead>\n",
       "    <tr style=\"text-align: right;\">\n",
       "      <th></th>\n",
       "      <th>SiO2</th>\n",
       "      <th>Fe2O3</th>\n",
       "      <th>MgO</th>\n",
       "      <th>CaO</th>\n",
       "      <th>TiO2</th>\n",
       "      <th>MnO</th>\n",
       "    </tr>\n",
       "  </thead>\n",
       "  <tbody>\n",
       "    <tr>\n",
       "      <th>0</th>\n",
       "      <td>73.84</td>\n",
       "      <td>1.71</td>\n",
       "      <td>0.34</td>\n",
       "      <td>1.16</td>\n",
       "      <td>0.382</td>\n",
       "      <td>0.0170</td>\n",
       "    </tr>\n",
       "    <tr>\n",
       "      <th>1</th>\n",
       "      <td>67.45</td>\n",
       "      <td>3.48</td>\n",
       "      <td>0.75</td>\n",
       "      <td>0.95</td>\n",
       "      <td>0.759</td>\n",
       "      <td>0.0400</td>\n",
       "    </tr>\n",
       "    <tr>\n",
       "      <th>2</th>\n",
       "      <td>67.60</td>\n",
       "      <td>3.55</td>\n",
       "      <td>0.68</td>\n",
       "      <td>1.86</td>\n",
       "      <td>0.744</td>\n",
       "      <td>0.0470</td>\n",
       "    </tr>\n",
       "    <tr>\n",
       "      <th>3</th>\n",
       "      <td>68.21</td>\n",
       "      <td>3.69</td>\n",
       "      <td>0.80</td>\n",
       "      <td>1.98</td>\n",
       "      <td>0.898</td>\n",
       "      <td>0.0450</td>\n",
       "    </tr>\n",
       "    <tr>\n",
       "      <th>4</th>\n",
       "      <td>69.38</td>\n",
       "      <td>2.45</td>\n",
       "      <td>0.57</td>\n",
       "      <td>1.89</td>\n",
       "      <td>0.587</td>\n",
       "      <td>0.0330</td>\n",
       "    </tr>\n",
       "    <tr>\n",
       "      <th>...</th>\n",
       "      <td>...</td>\n",
       "      <td>...</td>\n",
       "      <td>...</td>\n",
       "      <td>...</td>\n",
       "      <td>...</td>\n",
       "      <td>...</td>\n",
       "    </tr>\n",
       "    <tr>\n",
       "      <th>535</th>\n",
       "      <td>73.43</td>\n",
       "      <td>1.65</td>\n",
       "      <td>0.20</td>\n",
       "      <td>1.36</td>\n",
       "      <td>0.130</td>\n",
       "      <td>0.0400</td>\n",
       "    </tr>\n",
       "    <tr>\n",
       "      <th>536</th>\n",
       "      <td>74.14</td>\n",
       "      <td>1.72</td>\n",
       "      <td>0.28</td>\n",
       "      <td>1.07</td>\n",
       "      <td>0.150</td>\n",
       "      <td>0.0500</td>\n",
       "    </tr>\n",
       "    <tr>\n",
       "      <th>537</th>\n",
       "      <td>75.65</td>\n",
       "      <td>1.35</td>\n",
       "      <td>0.14</td>\n",
       "      <td>0.98</td>\n",
       "      <td>0.100</td>\n",
       "      <td>0.0400</td>\n",
       "    </tr>\n",
       "    <tr>\n",
       "      <th>541</th>\n",
       "      <td>72.12</td>\n",
       "      <td>1.56</td>\n",
       "      <td>1.58</td>\n",
       "      <td>1.18</td>\n",
       "      <td>0.380</td>\n",
       "      <td>0.0415</td>\n",
       "    </tr>\n",
       "    <tr>\n",
       "      <th>542</th>\n",
       "      <td>72.76</td>\n",
       "      <td>1.39</td>\n",
       "      <td>1.49</td>\n",
       "      <td>1.27</td>\n",
       "      <td>0.360</td>\n",
       "      <td>0.0415</td>\n",
       "    </tr>\n",
       "  </tbody>\n",
       "</table>\n",
       "<p>505 rows × 6 columns</p>\n",
       "</div>"
      ],
      "text/plain": [
       "      SiO2  Fe2O3   MgO   CaO   TiO2     MnO\n",
       "0    73.84   1.71  0.34  1.16  0.382  0.0170\n",
       "1    67.45   3.48  0.75  0.95  0.759  0.0400\n",
       "2    67.60   3.55  0.68  1.86  0.744  0.0470\n",
       "3    68.21   3.69  0.80  1.98  0.898  0.0450\n",
       "4    69.38   2.45  0.57  1.89  0.587  0.0330\n",
       "..     ...    ...   ...   ...    ...     ...\n",
       "535  73.43   1.65  0.20  1.36  0.130  0.0400\n",
       "536  74.14   1.72  0.28  1.07  0.150  0.0500\n",
       "537  75.65   1.35  0.14  0.98  0.100  0.0400\n",
       "541  72.12   1.56  1.58  1.18  0.380  0.0415\n",
       "542  72.76   1.39  1.49  1.27  0.360  0.0415\n",
       "\n",
       "[505 rows x 6 columns]"
      ]
     },
     "execution_count": 24,
     "metadata": {},
     "output_type": "execute_result"
    }
   ],
   "source": [
    "cols = fit.get_support(indices=True)\n",
    "df.iloc[:,cols]"
   ]
  },
  {
   "cell_type": "markdown",
   "id": "0d880869-30ee-4990-8083-5555b456777a",
   "metadata": {},
   "source": [
    "### Treinando e avaliando o modelo"
   ]
  },
  {
   "cell_type": "code",
   "execution_count": 25,
   "id": "a12c7ce5-023d-430c-9a7e-c43447a0c474",
   "metadata": {},
   "outputs": [
    {
     "name": "stdout",
     "output_type": "stream",
     "text": [
      "A acurácia do modelo com Kernel polinomial e C=100.0 : 0.8911\n"
     ]
    }
   ],
   "source": [
    "model_a=SVC(kernel='poly', C=100.0, degree=4, gamma=0.01) \n",
    "\n",
    "model_a.fit(X_train,y_train)\n",
    "\n",
    "y_pred=model_a.predict(X_test)\n",
    "\n",
    "print('A acurácia do modelo com Kernel polinomial e C=100.0 : {0:0.4f}'. format(accuracy_score(y_test, y_pred)))"
   ]
  },
  {
   "cell_type": "markdown",
   "id": "3c8726db-8827-41fe-a0b6-56737e855f53",
   "metadata": {},
   "source": [
    "### Matriz de confusão"
   ]
  },
  {
   "cell_type": "code",
   "execution_count": 26,
   "id": "7dce37ee-5d13-419f-8d8f-8aa0072f6bfe",
   "metadata": {},
   "outputs": [
    {
     "name": "stdout",
     "output_type": "stream",
     "text": [
      "Matriz de confusão\n",
      "\n",
      " [[46  7]\n",
      " [ 4 44]]\n",
      "\n",
      "True Positives(TP) =  46\n",
      "\n",
      "True Negatives(TN) =  44\n",
      "\n",
      "False Positives(FP) =  7\n",
      "\n",
      "False Negatives(FN) =  4\n"
     ]
    }
   ],
   "source": [
    "# Criando a matriz de confusão\n",
    "\n",
    "cm = confusion_matrix(y_test, y_pred)\n",
    "\n",
    "print('Matriz de confusão\\n\\n', cm)\n",
    "\n",
    "print('\\nTrue Positives(TP) = ', cm[0,0])\n",
    "\n",
    "print('\\nTrue Negatives(TN) = ', cm[1,1])\n",
    "\n",
    "print('\\nFalse Positives(FP) = ', cm[0,1])\n",
    "\n",
    "print('\\nFalse Negatives(FN) = ', cm[1,0])"
   ]
  },
  {
   "cell_type": "code",
   "execution_count": 27,
   "id": "02013c5c-3175-4a5d-a59f-bd6231ed63b3",
   "metadata": {},
   "outputs": [
    {
     "data": {
      "text/plain": [
       "<AxesSubplot:>"
      ]
     },
     "execution_count": 27,
     "metadata": {},
     "output_type": "execute_result"
    },
    {
     "data": {
      "image/png": "[encoded data removed]",
      "text/plain": [
       "<Figure size 432x288 with 2 Axes>"
      ]
     },
     "metadata": {
      "needs_background": "light"
     },
     "output_type": "display_data"
    }
   ],
   "source": [
    "# Transformando a matriz de confusão em uma figura\n",
    "\n",
    "cm_matrix = pd.DataFrame(data=cm, columns=['I', 'S'], \n",
    "                                 index=['I', 'S'])\n",
    "\n",
    "sns.heatmap(cm_matrix, annot=True, fmt='d', cmap='YlGnBu')"
   ]
  },
  {
   "cell_type": "markdown",
   "id": "dc7f047c-5cc2-4e40-8ce0-9106d84e4b5f",
   "metadata": {},
   "source": [
    "### Métricas de avaliação do modelo"
   ]
  },
  {
   "cell_type": "code",
   "execution_count": 28,
   "id": "6af48d7b-b8a1-40fe-bba4-bdb9f948aa41",
   "metadata": {},
   "outputs": [
    {
     "name": "stdout",
     "output_type": "stream",
     "text": [
      "              precision    recall  f1-score   support\n",
      "\n",
      "           0       0.92      0.87      0.89        53\n",
      "           1       0.86      0.92      0.89        48\n",
      "\n",
      "   micro avg       0.89      0.89      0.89       101\n",
      "   macro avg       0.89      0.89      0.89       101\n",
      "weighted avg       0.89      0.89      0.89       101\n",
      "\n"
     ]
    }
   ],
   "source": [
    "print(classification_report(y_test, y_pred))"
   ]
  },
  {
   "cell_type": "code",
   "execution_count": 29,
   "id": "053e9dcb-c027-4c6e-9a93-0e18263811d3",
   "metadata": {},
   "outputs": [],
   "source": [
    "TP = cm[0,0]\n",
    "TN = cm[1,1]\n",
    "FP = cm[0,1]\n",
    "FN = cm[1,0]"
   ]
  },
  {
   "cell_type": "code",
   "execution_count": 30,
   "id": "0998e312-e270-43de-8ae0-2cc831149b41",
   "metadata": {},
   "outputs": [
    {
     "name": "stdout",
     "output_type": "stream",
     "text": [
      "Acurácia da classificação : 0.8911\n",
      "Erro de classificação : 0.1089\n",
      "Precisão : 0.8679\n",
      "Recall or Sensitivity : 0.9200\n"
     ]
    }
   ],
   "source": [
    "classification_accuracy_model_a = (TP + TN) / float(TP + TN + FP + FN)\n",
    "classification_error_model_a = (FP + FN) / float(TP + TN + FP + FN)\n",
    "precision_model_a = TP / float(TP + FP)\n",
    "recall_model_a = TP / float(TP + FN)\n",
    "\n",
    "print('Acurácia da classificação : {0:0.4f}'.format(classification_accuracy_model_a))\n",
    "print('Erro de classificação : {0:0.4f}'.format(classification_error_model_a))\n",
    "print('Precisão : {0:0.4f}'.format(precision_model_a))\n",
    "print('Recall or Sensitivity : {0:0.4f}'.format(recall_model_a))"
   ]
  },
  {
   "cell_type": "code",
   "execution_count": 31,
   "id": "38b5669a-d7b6-4dc1-8035-550d2bda713c",
   "metadata": {},
   "outputs": [
    {
     "name": "stdout",
     "output_type": "stream",
     "text": [
      "True Positive Rate : 0.9200\n",
      "False Positive Rate : 0.1373\n",
      "Specificity : 0.8627\n"
     ]
    }
   ],
   "source": [
    "true_positive_rate_model_a = TP / float(TP + FN)\n",
    "false_positive_rate_model_a = FP / float(FP + TN)\n",
    "specificity_model_a = TN / (TN + FP)\n",
    "\n",
    "print('True Positive Rate : {0:0.4f}'.format(true_positive_rate_model_a))\n",
    "print('False Positive Rate : {0:0.4f}'.format(false_positive_rate_model_a))\n",
    "print('Specificity : {0:0.4f}'.format(specificity_model_a))"
   ]
  },
  {
   "cell_type": "code",
   "execution_count": 32,
   "id": "b7f08bc3-c135-439d-b620-f43ff90a13a5",
   "metadata": {},
   "outputs": [
    {
     "data": {
      "image/png": "[encoded data removed]",
      "text/plain": [
       "<Figure size 432x288 with 1 Axes>"
      ]
     },
     "metadata": {
      "needs_background": "light"
     },
     "output_type": "display_data"
    }
   ],
   "source": [
    "# Plotar curva ROC\n",
    "\n",
    "fpr, tpr, thresholds = roc_curve(y_test, y_pred)\n",
    "\n",
    "plt.figure(figsize=(6,4))\n",
    "\n",
    "plt.plot(fpr, tpr, linewidth=2)\n",
    "\n",
    "plt.plot([0,1], [0,1], 'k--' )\n",
    "\n",
    "plt.rcParams['font.size'] = 12\n",
    "\n",
    "plt.title('Curva ROC')\n",
    "\n",
    "plt.xlabel('False Positive Rate (1 - SpecificitY)')\n",
    "\n",
    "plt.ylabel('True Positive Rate (Sensitivity)')\n",
    "\n",
    "plt.show()"
   ]
  },
  {
   "cell_type": "code",
   "execution_count": 33,
   "id": "6dc02d8a-3306-4873-8569-386e57fdcf8e",
   "metadata": {},
   "outputs": [
    {
     "name": "stdout",
     "output_type": "stream",
     "text": [
      "ROC AUC : 0.8923\n"
     ]
    }
   ],
   "source": [
    "ROC_AUC = roc_auc_score(y_test, y_pred)\n",
    "\n",
    "print('ROC AUC : {:.4f}'.format(ROC_AUC))"
   ]
  },
  {
   "cell_type": "markdown",
   "id": "376321e4-5fa4-4557-821e-afde15f18fdd",
   "metadata": {},
   "source": [
    "# Salvando o modelo "
   ]
  },
  {
   "cell_type": "code",
   "execution_count": 34,
   "id": "368dc58a-0868-40b3-902e-cbe9a66a4cb1",
   "metadata": {},
   "outputs": [],
   "source": [
    "file = open('model_a', 'wb')\n",
    "pickle.dump(model_a, file)"
   ]
  },
  {
   "cell_type": "markdown",
   "id": "30735cab-339c-4178-8457-9e665abe2e31",
   "metadata": {},
   "source": [
    "# Modelo B"
   ]
  },
  {
   "cell_type": "code",
   "execution_count": 35,
   "id": "d4b3a8d5-36f9-434d-9776-6c6b4db9294d",
   "metadata": {},
   "outputs": [],
   "source": [
    "# Criando uma copia da base de dados para treinar o modelo B\n",
    "\n",
    "df_model_b = df.copy().drop(columns=['La'])"
   ]
  },
  {
   "cell_type": "code",
   "execution_count": 36,
   "id": "79c57b8b-c3ec-4ede-b9db-b23292474949",
   "metadata": {},
   "outputs": [],
   "source": [
    "# Separando as entradas (A) e saídas (b) do modelo\n",
    "\n",
    "A = df_model_b.drop(columns=['label'])\n",
    "b = df_model_b['label']"
   ]
  },
  {
   "cell_type": "code",
   "execution_count": 37,
   "id": "55b5a677-3e43-431e-a838-622acc235672",
   "metadata": {},
   "outputs": [],
   "source": [
    "# separa a base em treino e teste\n",
    "\n",
    "A_train, A_test, b_train, b_test = train_test_split(A, b, test_size = 0.2, stratify=y)"
   ]
  },
  {
   "cell_type": "markdown",
   "id": "b2bfd196-0896-4d6b-bd89-b0b181f0a2a1",
   "metadata": {},
   "source": [
    "### Treinando e avaliando o modelo"
   ]
  },
  {
   "cell_type": "code",
   "execution_count": 38,
   "id": "5aba00fd-2842-4506-abc9-2811af7dd797",
   "metadata": {},
   "outputs": [
    {
     "name": "stdout",
     "output_type": "stream",
     "text": [
      "A acurácia do modelo com Kernel polinomial e C=100.0 : 0.9307\n"
     ]
    }
   ],
   "source": [
    "model_b=SVC(kernel='poly', C=100.0, degree=4, gamma=0.01) \n",
    "\n",
    "model_b.fit(A_train,b_train)\n",
    "\n",
    "b_pred=model_b.predict(A_test)\n",
    "\n",
    "print('A acurácia do modelo com Kernel polinomial e C=100.0 : {0:0.4f}'. format(accuracy_score(b_test, b_pred)))"
   ]
  },
  {
   "cell_type": "markdown",
   "id": "84c3a3a8-edfb-43e1-b738-d49758d874ea",
   "metadata": {},
   "source": [
    "### Matriz de confusão"
   ]
  },
  {
   "cell_type": "code",
   "execution_count": 39,
   "id": "2e6e7ef4-463c-49dd-882b-c462160b2ab4",
   "metadata": {},
   "outputs": [
    {
     "name": "stdout",
     "output_type": "stream",
     "text": [
      "Matriz de confusão\n",
      "\n",
      " [[48  5]\n",
      " [ 2 46]]\n",
      "\n",
      "True Positives(TP) =  48\n",
      "\n",
      "True Negatives(TN) =  46\n",
      "\n",
      "False Positives(FP) =  5\n",
      "\n",
      "False Negatives(FN) =  2\n"
     ]
    }
   ],
   "source": [
    "# Criando a matriz de confusão\n",
    "\n",
    "cm = confusion_matrix(b_test, b_pred)\n",
    "\n",
    "print('Matriz de confusão\\n\\n', cm)\n",
    "\n",
    "print('\\nTrue Positives(TP) = ', cm[0,0])\n",
    "\n",
    "print('\\nTrue Negatives(TN) = ', cm[1,1])\n",
    "\n",
    "print('\\nFalse Positives(FP) = ', cm[0,1])\n",
    "\n",
    "print('\\nFalse Negatives(FN) = ', cm[1,0])"
   ]
  },
  {
   "cell_type": "code",
   "execution_count": 40,
   "id": "457a2a4d-d222-4aea-838e-8f3bd96494a8",
   "metadata": {},
   "outputs": [
    {
     "data": {
      "text/plain": [
       "<AxesSubplot:>"
      ]
     },
     "execution_count": 40,
     "metadata": {},
     "output_type": "execute_result"
    },
    {
     "data": {
      "image/png": "[encoded data removed]",
      "text/plain": [
       "<Figure size 432x288 with 2 Axes>"
      ]
     },
     "metadata": {
      "needs_background": "light"
     },
     "output_type": "display_data"
    }
   ],
   "source": [
    "# Transformando a matriz de confusão em uma figura\n",
    "\n",
    "cm_matrix = pd.DataFrame(data=cm, columns=['I', 'S'], \n",
    "                                 index=['I', 'S'])\n",
    "\n",
    "sns.heatmap(cm_matrix, annot=True, fmt='d', cmap='YlGnBu')"
   ]
  },
  {
   "cell_type": "markdown",
   "id": "988486fe-a4c9-4493-b6fc-3b20ec04deac",
   "metadata": {},
   "source": [
    "### Métricas de avaliação do modelo"
   ]
  },
  {
   "cell_type": "code",
   "execution_count": 41,
   "id": "7f2240a7-4d28-4658-a449-f28dae0cf551",
   "metadata": {},
   "outputs": [
    {
     "name": "stdout",
     "output_type": "stream",
     "text": [
      "              precision    recall  f1-score   support\n",
      "\n",
      "           0       0.96      0.91      0.93        53\n",
      "           1       0.90      0.96      0.93        48\n",
      "\n",
      "   micro avg       0.93      0.93      0.93       101\n",
      "   macro avg       0.93      0.93      0.93       101\n",
      "weighted avg       0.93      0.93      0.93       101\n",
      "\n"
     ]
    }
   ],
   "source": [
    "print(classification_report(b_test, b_pred))"
   ]
  },
  {
   "cell_type": "code",
   "execution_count": 42,
   "id": "3295ea11-1a96-4357-a18c-a2b3b75ca464",
   "metadata": {},
   "outputs": [],
   "source": [
    "TP = cm[0,0]\n",
    "TN = cm[1,1]\n",
    "FP = cm[0,1]\n",
    "FN = cm[1,0]"
   ]
  },
  {
   "cell_type": "code",
   "execution_count": 43,
   "id": "8dd9f901-4f36-4025-9ddd-44b2a86b4774",
   "metadata": {},
   "outputs": [
    {
     "name": "stdout",
     "output_type": "stream",
     "text": [
      "Acurácia da classificação : 0.9307\n",
      "Erro de classificação : 0.0693\n",
      "Precisão : 0.9057\n",
      "Recall or Sensitivity : 0.9600\n"
     ]
    }
   ],
   "source": [
    "classification_accuracy_model_b = (TP + TN) / float(TP + TN + FP + FN)\n",
    "classification_error_model_b = (FP + FN) / float(TP + TN + FP + FN)\n",
    "precision_model_b = TP / float(TP + FP)\n",
    "recall_model_b = TP / float(TP + FN)\n",
    "\n",
    "print('Acurácia da classificação : {0:0.4f}'.format(classification_accuracy_model_b))\n",
    "print('Erro de classificação : {0:0.4f}'.format(classification_error_model_b))\n",
    "print('Precisão : {0:0.4f}'.format(precision_model_b))\n",
    "print('Recall or Sensitivity : {0:0.4f}'.format(recall_model_b))"
   ]
  },
  {
   "cell_type": "code",
   "execution_count": 44,
   "id": "26dbf5bc-0480-4efb-8569-815aab43945c",
   "metadata": {},
   "outputs": [
    {
     "name": "stdout",
     "output_type": "stream",
     "text": [
      "True Positive Rate : 0.9600\n",
      "False Positive Rate : 0.0980\n",
      "Specificity : 0.9020\n"
     ]
    }
   ],
   "source": [
    "true_positive_rate_model_b = TP / float(TP + FN)\n",
    "false_positive_rate_model_b = FP / float(FP + TN)\n",
    "specificity_model_b = TN / (TN + FP)\n",
    "\n",
    "print('True Positive Rate : {0:0.4f}'.format(true_positive_rate_model_b))\n",
    "print('False Positive Rate : {0:0.4f}'.format(false_positive_rate_model_b))\n",
    "print('Specificity : {0:0.4f}'.format(specificity_model_b))"
   ]
  },
  {
   "cell_type": "code",
   "execution_count": 45,
   "id": "1c04ea7b-ae5c-4f5e-93f2-b32d090ac2c9",
   "metadata": {},
   "outputs": [
    {
     "data": {
      "image/png": "[encoded data removed]",
      "text/plain": [
       "<Figure size 432x288 with 1 Axes>"
      ]
     },
     "metadata": {
      "needs_background": "light"
     },
     "output_type": "display_data"
    }
   ],
   "source": [
    "# Plotar curva ROC\n",
    "\n",
    "fpr, tpr, thresholds = roc_curve(b_test, b_pred)\n",
    "\n",
    "plt.figure(figsize=(6,4))\n",
    "\n",
    "plt.plot(fpr, tpr, linewidth=2)\n",
    "\n",
    "plt.plot([0,1], [0,1], 'k--' )\n",
    "\n",
    "plt.rcParams['font.size'] = 12\n",
    "\n",
    "plt.title('Curva ROC')\n",
    "\n",
    "plt.xlabel('False Positive Rate (1 - SpecificitY)')\n",
    "\n",
    "plt.ylabel('True Positive Rate (Sensitivity)')\n",
    "\n",
    "plt.show()"
   ]
  },
  {
   "cell_type": "code",
   "execution_count": 46,
   "id": "c6712aa7-004c-4156-ab06-f97e941e3991",
   "metadata": {},
   "outputs": [
    {
     "name": "stdout",
     "output_type": "stream",
     "text": [
      "ROC AUC : 0.9320\n"
     ]
    }
   ],
   "source": [
    "ROC_AUC = roc_auc_score(b_test, b_pred)\n",
    "\n",
    "print('ROC AUC : {:.4f}'.format(ROC_AUC))"
   ]
  },
  {
   "cell_type": "markdown",
   "id": "7e2bba0d-8369-4c8b-a16b-24a05af3db23",
   "metadata": {},
   "source": [
    "# Salvando o modelo"
   ]
  },
  {
   "cell_type": "code",
   "execution_count": 47,
   "id": "c2a6492d-a2de-4071-bfba-b7b5b208e943",
   "metadata": {},
   "outputs": [],
   "source": [
    "file = open('model_b', 'wb')\n",
    "pickle.dump(model_b, file)"
   ]
  },
  {
   "cell_type": "markdown",
   "id": "51319e78-2663-4c3e-9995-28ba825d2dda",
   "metadata": {},
   "source": [
    "# Modelo C"
   ]
  },
  {
   "cell_type": "code",
   "execution_count": 48,
   "id": "b28870f1-a116-4753-82b7-da6081e07a4e",
   "metadata": {},
   "outputs": [],
   "source": [
    "# Criando uma copia da base de dados para treinar o modelo C\n",
    "\n",
    "df_model_c = df.copy()"
   ]
  },
  {
   "cell_type": "code",
   "execution_count": 49,
   "id": "ce7a6e09-8bfb-46e1-be4e-9056d53538fb",
   "metadata": {},
   "outputs": [],
   "source": [
    "# Separando as entradas (C) e saídas (d) do modelo\n",
    "\n",
    "C = df_model_c.drop(columns=['label'])\n",
    "d = df_model_c['label']"
   ]
  },
  {
   "cell_type": "code",
   "execution_count": 50,
   "id": "5b91efb5-1ad5-40eb-8381-d973789b25f8",
   "metadata": {},
   "outputs": [],
   "source": [
    "# separa a base em treino e teste\n",
    "\n",
    "C_train, C_test, d_train, d_test = train_test_split(C, d, test_size = 0.2, stratify=y)"
   ]
  },
  {
   "cell_type": "markdown",
   "id": "ef774cd8-f5cd-40bf-b0c9-09d8085f45a2",
   "metadata": {},
   "source": [
    "### Treinando e avaliando o modelo"
   ]
  },
  {
   "cell_type": "code",
   "execution_count": 51,
   "id": "ff121f5a-a9ca-4183-9df5-ea069a0da12a",
   "metadata": {},
   "outputs": [
    {
     "name": "stdout",
     "output_type": "stream",
     "text": [
      "A acurácia do modelo com Kernel polinomial e C=100.0 : 0.9604\n"
     ]
    }
   ],
   "source": [
    "model_c=SVC(kernel='poly', C=100.0, degree=4, gamma=0.01) \n",
    "\n",
    "model_c.fit(C_train,d_train)\n",
    "\n",
    "d_pred=model_c.predict(C_test)\n",
    "\n",
    "print('A acurácia do modelo com Kernel polinomial e C=100.0 : {0:0.4f}'. format(accuracy_score(d_test, d_pred)))"
   ]
  },
  {
   "cell_type": "markdown",
   "id": "3088e16c-c3a2-4ead-9bd0-a8871e0c0ee6",
   "metadata": {},
   "source": [
    "### Matriz de confusão"
   ]
  },
  {
   "cell_type": "code",
   "execution_count": 52,
   "id": "1da47caa-8c1a-4680-927e-58d942be1017",
   "metadata": {},
   "outputs": [
    {
     "name": "stdout",
     "output_type": "stream",
     "text": [
      "Matriz de confusão\n",
      "\n",
      " [[50  3]\n",
      " [ 1 47]]\n",
      "\n",
      "True Positives(TP) =  50\n",
      "\n",
      "True Negatives(TN) =  47\n",
      "\n",
      "False Positives(FP) =  3\n",
      "\n",
      "False Negatives(FN) =  1\n"
     ]
    }
   ],
   "source": [
    "# Criando a matriz de confusão\n",
    "\n",
    "cm = confusion_matrix(d_test, d_pred)\n",
    "\n",
    "print('Matriz de confusão\\n\\n', cm)\n",
    "\n",
    "print('\\nTrue Positives(TP) = ', cm[0,0])\n",
    "\n",
    "print('\\nTrue Negatives(TN) = ', cm[1,1])\n",
    "\n",
    "print('\\nFalse Positives(FP) = ', cm[0,1])\n",
    "\n",
    "print('\\nFalse Negatives(FN) = ', cm[1,0])"
   ]
  },
  {
   "cell_type": "code",
   "execution_count": 53,
   "id": "8b98aeeb-bdd2-457a-8e67-d0fc4700fdc5",
   "metadata": {},
   "outputs": [
    {
     "data": {
      "text/plain": [
       "<AxesSubplot:>"
      ]
     },
     "execution_count": 53,
     "metadata": {},
     "output_type": "execute_result"
    },
    {
     "data": {
      "image/png": "[encoded data removed]",
      "text/plain": [
       "<Figure size 432x288 with 2 Axes>"
      ]
     },
     "metadata": {
      "needs_background": "light"
     },
     "output_type": "display_data"
    }
   ],
   "source": [
    "# Transformando a matriz de confusão em uma figura\n",
    "\n",
    "cm_matrix = pd.DataFrame(data=cm, columns=['I', 'S'], \n",
    "                                 index=['I', 'S'])\n",
    "\n",
    "sns.heatmap(cm_matrix, annot=True, fmt='d', cmap='YlGnBu')"
   ]
  },
  {
   "cell_type": "markdown",
   "id": "5301d1b6-9c00-41aa-8efa-f00e8a0845ca",
   "metadata": {},
   "source": [
    "### Métricas de avaliação do modelo"
   ]
  },
  {
   "cell_type": "code",
   "execution_count": 54,
   "id": "14f2f65e-c0ac-4946-b695-05d0fbe6ffed",
   "metadata": {},
   "outputs": [
    {
     "name": "stdout",
     "output_type": "stream",
     "text": [
      "              precision    recall  f1-score   support\n",
      "\n",
      "           0       0.98      0.94      0.96        53\n",
      "           1       0.94      0.98      0.96        48\n",
      "\n",
      "   micro avg       0.96      0.96      0.96       101\n",
      "   macro avg       0.96      0.96      0.96       101\n",
      "weighted avg       0.96      0.96      0.96       101\n",
      "\n"
     ]
    }
   ],
   "source": [
    "print(classification_report(d_test, d_pred))"
   ]
  },
  {
   "cell_type": "code",
   "execution_count": 55,
   "id": "90d12c78-316f-4021-9e50-266409d4c4e0",
   "metadata": {},
   "outputs": [],
   "source": [
    "TP = cm[0,0]\n",
    "TN = cm[1,1]\n",
    "FP = cm[0,1]\n",
    "FN = cm[1,0]"
   ]
  },
  {
   "cell_type": "code",
   "execution_count": 56,
   "id": "47708e6e-b45c-4cda-bc2d-988d0039c039",
   "metadata": {},
   "outputs": [
    {
     "name": "stdout",
     "output_type": "stream",
     "text": [
      "Acurácia da classificação : 0.9604\n",
      "Erro de classificação : 0.0396\n",
      "Precisão : 0.9434\n",
      "Recall or Sensitivity : 0.9804\n"
     ]
    }
   ],
   "source": [
    "classification_accuracy_model_c = (TP + TN) / float(TP + TN + FP + FN)\n",
    "classification_error_model_c = (FP + FN) / float(TP + TN + FP + FN)\n",
    "precision_model_c = TP / float(TP + FP)\n",
    "recall_model_c = TP / float(TP + FN)\n",
    "\n",
    "print('Acurácia da classificação : {0:0.4f}'.format(classification_accuracy_model_c))\n",
    "print('Erro de classificação : {0:0.4f}'.format(classification_error_model_c))\n",
    "print('Precisão : {0:0.4f}'.format(precision_model_c))\n",
    "print('Recall or Sensitivity : {0:0.4f}'.format(recall_model_c))"
   ]
  },
  {
   "cell_type": "code",
   "execution_count": 57,
   "id": "a54b9517-f7ed-4719-9a6c-26380fb01458",
   "metadata": {},
   "outputs": [
    {
     "name": "stdout",
     "output_type": "stream",
     "text": [
      "True Positive Rate : 0.9804\n",
      "False Positive Rate : 0.0600\n",
      "Specificity : 0.9400\n"
     ]
    }
   ],
   "source": [
    "true_positive_rate_model_c = TP / float(TP + FN)\n",
    "false_positive_rate_model_c = FP / float(FP + TN)\n",
    "specificity_model_c = TN / (TN + FP)\n",
    "\n",
    "print('True Positive Rate : {0:0.4f}'.format(true_positive_rate_model_c))\n",
    "print('False Positive Rate : {0:0.4f}'.format(false_positive_rate_model_c))\n",
    "print('Specificity : {0:0.4f}'.format(specificity_model_c))"
   ]
  },
  {
   "cell_type": "code",
   "execution_count": 58,
   "id": "dbb36a52-c8ca-4158-b33c-9be31d4899a8",
   "metadata": {},
   "outputs": [
    {
     "data": {
      "image/png": "[encoded data removed]",
      "text/plain": [
       "<Figure size 432x288 with 1 Axes>"
      ]
     },
     "metadata": {
      "needs_background": "light"
     },
     "output_type": "display_data"
    }
   ],
   "source": [
    "# Plotar curva ROC\n",
    "\n",
    "fpr, tpr, thresholds = roc_curve(d_test, d_pred)\n",
    "\n",
    "plt.figure(figsize=(6,4))\n",
    "\n",
    "plt.plot(fpr, tpr, linewidth=2)\n",
    "\n",
    "plt.plot([0,1], [0,1], 'k--' )\n",
    "\n",
    "plt.rcParams['font.size'] = 12\n",
    "\n",
    "plt.title('Curva ROC')\n",
    "\n",
    "plt.xlabel('False Positive Rate (1 - SpecificitY)')\n",
    "\n",
    "plt.ylabel('True Positive Rate (Sensitivity)')\n",
    "\n",
    "plt.show()"
   ]
  },
  {
   "cell_type": "code",
   "execution_count": 59,
   "id": "32d679cf-6831-4b12-847d-40f8a89c9067",
   "metadata": {},
   "outputs": [
    {
     "name": "stdout",
     "output_type": "stream",
     "text": [
      "ROC AUC : 0.9613\n"
     ]
    }
   ],
   "source": [
    "ROC_AUC = roc_auc_score(d_test, d_pred)\n",
    "\n",
    "print('ROC AUC : {:.4f}'.format(ROC_AUC))"
   ]
  },
  {
   "cell_type": "markdown",
   "id": "a208af1f-121f-416a-a880-3231fe98294a",
   "metadata": {},
   "source": [
    "# Salvando o modelo"
   ]
  },
  {
   "cell_type": "code",
   "execution_count": 60,
   "id": "2d16a29c-ad25-4338-b23d-01fba89b0f34",
   "metadata": {},
   "outputs": [],
   "source": [
    "file = open('model_c', 'wb')\n",
    "pickle.dump(model_c, file)"
   ]
  }
 ],
 "metadata": {
  "kernelspec": {
   "display_name": "Python",
   "language": "python",
   "name": "conda-env-python-py"
  },
  "language_info": {
   "codemirror_mode": {
    "name": "ipython",
    "version": 3
   },
   "file_extension": ".py",
   "mimetype": "text/x-python",
   "name": "python",
   "nbconvert_exporter": "python",
   "pygments_lexer": "ipython3",
   "version": "3.6.13"
  }
 },
 "nbformat": 4,
 "nbformat_minor": 5
}
